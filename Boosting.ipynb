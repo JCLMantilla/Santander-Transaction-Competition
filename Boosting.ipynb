{
 "cells": [
  {
   "cell_type": "markdown",
   "source": [
    "Imports"
   ],
   "metadata": {
    "collapsed": false,
    "pycharm": {
     "name": "#%% md\n"
    }
   }
  },
  {
   "cell_type": "code",
   "execution_count": 3,
   "outputs": [
    {
     "name": "stdout",
     "output_type": "stream",
     "text": [
      "Now using sklearn version 1.0.2\n",
      "packages are ready!\n"
     ]
    }
   ],
   "source": [
    "import numpy as np\n",
    "import pandas as pd\n",
    "import sklearn as sklearn\n",
    "from sklearn.ensemble import HistGradientBoostingClassifier\n",
    "print('Now using sklearn version '+sklearn.__version__)\n",
    "print('packages are ready!')"
   ],
   "metadata": {
    "collapsed": false,
    "pycharm": {
     "name": "#%%\n"
    }
   }
  },
  {
   "cell_type": "markdown",
   "source": [
    "Loading data"
   ],
   "metadata": {
    "collapsed": false,
    "pycharm": {
     "name": "#%% md\n"
    }
   }
  },
  {
   "cell_type": "code",
   "execution_count": 4,
   "outputs": [
    {
     "name": "stdout",
     "output_type": "stream",
     "text": [
      "Loading data...\n",
      "Data is ready!\n"
     ]
    }
   ],
   "source": [
    "print('Loading data...')\n",
    "\"\"\"we are also importing training and testing data from competition because they might become handy\"\"\"\n",
    "\n",
    "test=pd.read_csv('/Users/juansmacbook/PycharmProjects/Santander_Transaction/santander_data/test.csv')\n",
    "train=pd.read_csv('/Users/juansmacbook/PycharmProjects/Santander_Transaction/santander_data/train.csv')\n",
    "\n",
    "\"\"\"reading data data\"\"\"\n",
    "\n",
    "x_test=pd.read_csv('/Users/juansmacbook/PycharmProjects/Santander_Transaction/santander_data/x_test.csv')\n",
    "x_train=pd.read_csv('/Users/juansmacbook/PycharmProjects/Santander_Transaction/santander_data/x_train.csv')\n",
    "\n",
    "print('Data is ready!')\n"
   ],
   "metadata": {
    "collapsed": false,
    "pycharm": {
     "name": "#%%\n"
    }
   }
  },
  {
   "cell_type": "code",
   "execution_count": 12,
   "outputs": [
    {
     "data": {
      "text/plain": "   Unnamed: 0  ID_code    var_0   var_1    var_2   var_3    var_4    var_5  \\\n0      200000   test_3   8.5374 -1.3222  12.0220  6.5749   8.8458   3.1744   \n1      200001   test_7  17.3035 -2.4212  13.3989  8.3998  11.0777   9.6449   \n2      200002  test_11  10.6137 -2.1898   8.9090  3.8014  13.8602  -5.9802   \n3      200003  test_15  14.8595 -4.5378  13.6483  5.6480   9.9144   1.5190   \n4      200004  test_16  14.1732 -5.1490   9.7591  3.7316  10.3700 -21.9202   \n\n    var_6    var_7  ...  var_190_unique  var_191_unique  var_192_unique  \\\n0  4.9397  20.5660  ...               0               0               0   \n1  5.9596  17.8477  ...               0               0               0   \n2  5.5515  15.4716  ...               0               0               0   \n3  5.0358  13.4524  ...               0               0               1   \n4  7.7130  18.8749  ...               0               0               0   \n\n   var_193_unique  var_194_unique  var_195_unique  var_196_unique  \\\n0               0               0               0               0   \n1               0               0               0               0   \n2               0               0               0               1   \n3               0               0               0               0   \n4               0               0               0               0   \n\n   var_197_unique  var_198_unique  var_199_unique  \n0               0               0               1  \n1               0               1               0  \n2               0               0               1  \n3               0               0               1  \n4               0               0               0  \n\n[5 rows x 402 columns]",
      "text/html": "<div>\n<style scoped>\n    .dataframe tbody tr th:only-of-type {\n        vertical-align: middle;\n    }\n\n    .dataframe tbody tr th {\n        vertical-align: top;\n    }\n\n    .dataframe thead th {\n        text-align: right;\n    }\n</style>\n<table border=\"1\" class=\"dataframe\">\n  <thead>\n    <tr style=\"text-align: right;\">\n      <th></th>\n      <th>Unnamed: 0</th>\n      <th>ID_code</th>\n      <th>var_0</th>\n      <th>var_1</th>\n      <th>var_2</th>\n      <th>var_3</th>\n      <th>var_4</th>\n      <th>var_5</th>\n      <th>var_6</th>\n      <th>var_7</th>\n      <th>...</th>\n      <th>var_190_unique</th>\n      <th>var_191_unique</th>\n      <th>var_192_unique</th>\n      <th>var_193_unique</th>\n      <th>var_194_unique</th>\n      <th>var_195_unique</th>\n      <th>var_196_unique</th>\n      <th>var_197_unique</th>\n      <th>var_198_unique</th>\n      <th>var_199_unique</th>\n    </tr>\n  </thead>\n  <tbody>\n    <tr>\n      <th>0</th>\n      <td>200000</td>\n      <td>test_3</td>\n      <td>8.5374</td>\n      <td>-1.3222</td>\n      <td>12.0220</td>\n      <td>6.5749</td>\n      <td>8.8458</td>\n      <td>3.1744</td>\n      <td>4.9397</td>\n      <td>20.5660</td>\n      <td>...</td>\n      <td>0</td>\n      <td>0</td>\n      <td>0</td>\n      <td>0</td>\n      <td>0</td>\n      <td>0</td>\n      <td>0</td>\n      <td>0</td>\n      <td>0</td>\n      <td>1</td>\n    </tr>\n    <tr>\n      <th>1</th>\n      <td>200001</td>\n      <td>test_7</td>\n      <td>17.3035</td>\n      <td>-2.4212</td>\n      <td>13.3989</td>\n      <td>8.3998</td>\n      <td>11.0777</td>\n      <td>9.6449</td>\n      <td>5.9596</td>\n      <td>17.8477</td>\n      <td>...</td>\n      <td>0</td>\n      <td>0</td>\n      <td>0</td>\n      <td>0</td>\n      <td>0</td>\n      <td>0</td>\n      <td>0</td>\n      <td>0</td>\n      <td>1</td>\n      <td>0</td>\n    </tr>\n    <tr>\n      <th>2</th>\n      <td>200002</td>\n      <td>test_11</td>\n      <td>10.6137</td>\n      <td>-2.1898</td>\n      <td>8.9090</td>\n      <td>3.8014</td>\n      <td>13.8602</td>\n      <td>-5.9802</td>\n      <td>5.5515</td>\n      <td>15.4716</td>\n      <td>...</td>\n      <td>0</td>\n      <td>0</td>\n      <td>0</td>\n      <td>0</td>\n      <td>0</td>\n      <td>0</td>\n      <td>1</td>\n      <td>0</td>\n      <td>0</td>\n      <td>1</td>\n    </tr>\n    <tr>\n      <th>3</th>\n      <td>200003</td>\n      <td>test_15</td>\n      <td>14.8595</td>\n      <td>-4.5378</td>\n      <td>13.6483</td>\n      <td>5.6480</td>\n      <td>9.9144</td>\n      <td>1.5190</td>\n      <td>5.0358</td>\n      <td>13.4524</td>\n      <td>...</td>\n      <td>0</td>\n      <td>0</td>\n      <td>1</td>\n      <td>0</td>\n      <td>0</td>\n      <td>0</td>\n      <td>0</td>\n      <td>0</td>\n      <td>0</td>\n      <td>1</td>\n    </tr>\n    <tr>\n      <th>4</th>\n      <td>200004</td>\n      <td>test_16</td>\n      <td>14.1732</td>\n      <td>-5.1490</td>\n      <td>9.7591</td>\n      <td>3.7316</td>\n      <td>10.3700</td>\n      <td>-21.9202</td>\n      <td>7.7130</td>\n      <td>18.8749</td>\n      <td>...</td>\n      <td>0</td>\n      <td>0</td>\n      <td>0</td>\n      <td>0</td>\n      <td>0</td>\n      <td>0</td>\n      <td>0</td>\n      <td>0</td>\n      <td>0</td>\n      <td>0</td>\n    </tr>\n  </tbody>\n</table>\n<p>5 rows × 402 columns</p>\n</div>"
     },
     "execution_count": 12,
     "metadata": {},
     "output_type": "execute_result"
    }
   ],
   "source": [
    "x_test.head()\n"
   ],
   "metadata": {
    "collapsed": false,
    "pycharm": {
     "name": "#%%\n"
    }
   }
  },
  {
   "cell_type": "code",
   "execution_count": null,
   "outputs": [],
   "source": [
    "\n",
    "training_set=x_train[x_train.columns[2:]].to_numpy()\n",
    "training_labels=train['target'].to_numpy()\n",
    "\n",
    "\"\"\"since we are dealing with an imbalanced data set we are going to deal with it  by oversampling the underrepresented class\"\"\"\n",
    "\n",
    "from imblearn.over_sampling import RandomOverSampler\n",
    "rov=RandomOverSampler()\n",
    "x_resampled, y_resampled = rov.fit_resample(X=training_set, y=training_labels)\n",
    "\n",
    "print('_.-._.-._.-._.-._.-._.-._.-._.-._.-._.-._.-._')\n",
    "print('training set shape before resampling: '+str(training_set.shape))\n",
    "print('training set shape after: '+str(x_resampled.shape))\n",
    "\n",
    "\n",
    "print('_.-._.-._.-._.-._.-._.-._.-._.-._.-._.-._.-._')\n",
    "print('training labels shape before resampling: '+str(training_labels.shape))\n",
    "print('training labels shape after :'+str(y_resampled.shape))\n",
    "print('_.-._.-._.-._.-._.-._.-._.-._.-._.-._.-._.-._')\n",
    "\n",
    "\"\"\"initializes a histogram gradient boost classifier \"\"\"\n",
    "def get_hgbc():\n",
    "    hgbc=sklearn.ensemble.HistGradientBoostingClassifier(\n",
    "\n",
    "        #parameters\n",
    "        max_iter=1000,\n",
    "        validation_fraction=0.02,\n",
    "        max_depth=None,\n",
    "        learning_rate=0.1,\n",
    "        loss='binary_crossentropy',\n",
    "        l2_regularization=0.01,\n",
    "        scoring='roc_auc',\n",
    "        max_leaf_nodes=40,\n",
    "        verbose=1\n",
    "\n",
    "    )\n",
    "    return hgbc\n",
    "\n",
    "\n",
    "\n",
    "\"\"\"Creates and fits model with the resampled data\"\"\"\n",
    "model1=get_hgbc()\n",
    "model1.fit(x_resampled, y_resampled, sample_weight=None)\n",
    "print('Training done!')\n",
    "\n",
    "\n",
    "\n",
    "\"\"\"Let's make predictions with the model\"\"\"\n",
    "#real_samples=x_test[:100000] #real samples\n",
    "#fake_samples=x_test[100000:] #fake samples\n",
    "super_test_set=x_test[x_test.columns[2:]].to_numpy()\n",
    "predictions=model1.predict(super_test_set)\n",
    "\n",
    "\n",
    "#TEST\n",
    "predictions_prob=model1.predict_proba(super_test_set)\n",
    "predictions_prob=pd.DataFrame(predictions_prob)\n",
    "######\n",
    "predictions\n",
    "\n",
    "\n",
    "\"\"\"Let's get ready for submission. Creating a DataFrame containing ID codes and targets\"\"\"\n",
    "submission_df=pd.DataFrame()\n",
    "submission_df['ID_code']=x_test['ID_code']\n",
    "\n",
    "#TEST\n",
    "#submission_df['target']=predictions THIS IS THE REAL DEAL\n",
    "submission_df['target']=predictions_prob[1].values #TEST\n",
    "########################\n",
    "\n",
    "\"\"\"we are also creating a dummy columns to help us sort our data by ID code\"\"\"\n",
    "submission_df['dummy_index']=submission_df['ID_code'].apply(lambda x: int(x[5:]))\n",
    "\n",
    "submission_df\n",
    "\n",
    "\"\"\"Let's sort our data and save it as a CSV file! We are done!\"\"\"\n",
    "juan_submission=submission_df.sort_values(by='dummy_index')\n",
    "juan_submission.drop(['dummy_index'],axis=1).to_csv('juan_submission_v2.csv', index=False)\n",
    "final_submission=pd.read_csv(filepath_or_buffer='juan_submission_v2.csv')"
   ],
   "metadata": {
    "collapsed": false,
    "pycharm": {
     "name": "#%%\n"
    }
   }
  }
 ],
 "metadata": {
  "kernelspec": {
   "display_name": "Python 3",
   "language": "python",
   "name": "python3"
  },
  "language_info": {
   "codemirror_mode": {
    "name": "ipython",
    "version": 2
   },
   "file_extension": ".py",
   "mimetype": "text/x-python",
   "name": "python",
   "nbconvert_exporter": "python",
   "pygments_lexer": "ipython2",
   "version": "2.7.6"
  }
 },
 "nbformat": 4,
 "nbformat_minor": 0
}