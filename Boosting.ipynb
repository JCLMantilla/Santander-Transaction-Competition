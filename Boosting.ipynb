{
 "cells": [
  {
   "cell_type": "markdown",
   "source": [
    "Imports"
   ],
   "metadata": {
    "collapsed": false,
    "pycharm": {
     "name": "#%% md\n"
    }
   }
  },
  {
   "cell_type": "code",
   "execution_count": 3,
   "outputs": [
    {
     "name": "stdout",
     "output_type": "stream",
     "text": [
      "Now using sklearn version 1.0.2\n",
      "packages are ready!\n"
     ]
    }
   ],
   "source": [
    "import numpy as np\n",
    "import pandas as pd\n",
    "import sklearn as sklearn\n",
    "from sklearn.ensemble import HistGradientBoostingClassifier\n",
    "print('Now using sklearn version '+sklearn.__version__)\n",
    "print('packages are ready!')"
   ],
   "metadata": {
    "collapsed": false,
    "pycharm": {
     "name": "#%%\n"
    }
   }
  },
  {
   "cell_type": "markdown",
   "source": [
    "Loading data"
   ],
   "metadata": {
    "collapsed": false,
    "pycharm": {
     "name": "#%% md\n"
    }
   }
  },
  {
   "cell_type": "code",
   "execution_count": 4,
   "outputs": [
    {
     "name": "stdout",
     "output_type": "stream",
     "text": [
      "Loading data...\n",
      "Data is ready!\n"
     ]
    }
   ],
   "source": [
    "print('Loading data...')\n",
    "\"\"\"we are also importing training and testing data from competition because they might become handy\"\"\"\n",
    "\n",
    "test=pd.read_csv('/Users/juansmacbook/PycharmProjects/Santander_Transaction/santander_data/test.csv')\n",
    "train=pd.read_csv('/Users/juansmacbook/PycharmProjects/Santander_Transaction/santander_data/train.csv')\n",
    "\n",
    "\"\"\"reading data data\"\"\"\n",
    "\n",
    "x_test=pd.read_csv('/Users/juansmacbook/PycharmProjects/Santander_Transaction/santander_data/x_test.csv')\n",
    "x_train=pd.read_csv('/Users/juansmacbook/PycharmProjects/Santander_Transaction/santander_data/x_train.csv')\n",
    "\n",
    "print('Data is ready!')\n"
   ],
   "metadata": {
    "collapsed": false,
    "pycharm": {
     "name": "#%%\n"
    }
   }
  },
  {
   "cell_type": "code",
   "execution_count": 15,
   "outputs": [
    {
     "data": {
      "text/plain": "Index(['var_0', 'var_1', 'var_2', 'var_3', 'var_4', 'var_5', 'var_6', 'var_7',\n       'var_8', 'var_9',\n       ...\n       'var_190_unique', 'var_191_unique', 'var_192_unique', 'var_193_unique',\n       'var_194_unique', 'var_195_unique', 'var_196_unique', 'var_197_unique',\n       'var_198_unique', 'var_199_unique'],\n      dtype='object', length=400)"
     },
     "execution_count": 15,
     "metadata": {},
     "output_type": "execute_result"
    }
   ],
   "source": [
    "x_train.columns[2:]\n"
   ],
   "metadata": {
    "collapsed": false,
    "pycharm": {
     "name": "#%%\n"
    }
   }
  },
  {
   "cell_type": "markdown",
   "source": [
    "Resampling"
   ],
   "metadata": {
    "collapsed": false,
    "pycharm": {
     "name": "#%% md\n"
    }
   }
  },
  {
   "cell_type": "code",
   "execution_count": null,
   "outputs": [],
   "source": [
    "training_set=x_train[x_train.columns[2:]].to_numpy()\n",
    "training_labels=train['target'].to_numpy()\n",
    "\n",
    "\"\"\"since we are dealing with an imbalanced data set we are going to deal with it  by oversampling the underrepresented class\"\"\"\n",
    "\n",
    "from imblearn.over_sampling import RandomOverSampler\n",
    "rov=RandomOverSampler()\n",
    "x_resampled, y_resampled = rov.fit_resample(X=training_set, y=training_labels)\n",
    "\n",
    "print('_.-._.-._.-._.-._.-._.-._.-._.-._.-._.-._.-._')\n",
    "print('training set shape before resampling: '+str(training_set.shape))\n",
    "print('training set shape after: '+str(x_resampled.shape))\n",
    "\n",
    "\n",
    "print('_.-._.-._.-._.-._.-._.-._.-._.-._.-._.-._.-._')\n",
    "print('training labels shape before resampling: '+str(training_labels.shape))\n",
    "print('training labels shape after :'+str(y_resampled.shape))\n",
    "print('_.-._.-._.-._.-._.-._.-._.-._.-._.-._.-._.-._')"
   ],
   "metadata": {
    "collapsed": false,
    "pycharm": {
     "name": "#%%\n"
    }
   }
  },
  {
   "cell_type": "code",
   "execution_count": null,
   "outputs": [],
   "source": [
    "\n",
    "\n",
    "\n",
    "\"\"\"initializes a histogram gradient boost classifier \"\"\"\n",
    "def get_hgbc():\n",
    "    hgbc=sklearn.ensemble.HistGradientBoostingClassifier(\n",
    "\n",
    "        #parameters\n",
    "        max_iter=1000,\n",
    "        validation_fraction=0.02,\n",
    "        max_depth=None,\n",
    "        learning_rate=0.1,\n",
    "        loss='binary_crossentropy',\n",
    "        l2_regularization=0.01,\n",
    "        scoring='roc_auc',\n",
    "        max_leaf_nodes=40,\n",
    "        verbose=1\n",
    "\n",
    "    )\n",
    "    return hgbc\n",
    "\n",
    "\n",
    "\n",
    "\"\"\"Creates and fits model with the resampled data\"\"\"\n",
    "model1=get_hgbc()\n",
    "model1.fit(x_resampled, y_resampled, sample_weight=None)\n",
    "print('Training done!')\n",
    "\n",
    "\n",
    "\n",
    "\"\"\"Let's make predictions with the model\"\"\"\n",
    "#real_samples=x_test[:100000] #real samples\n",
    "#fake_samples=x_test[100000:] #fake samples\n",
    "super_test_set=x_test[x_test.columns[2:]].to_numpy()\n",
    "predictions=model1.predict(super_test_set)\n",
    "\n",
    "\n",
    "#TEST\n",
    "predictions_prob=model1.predict_proba(super_test_set)\n",
    "predictions_prob=pd.DataFrame(predictions_prob)\n",
    "######\n",
    "predictions\n",
    "\n",
    "\n",
    "\"\"\"Let's get ready for submission. Creating a DataFrame containing ID codes and targets\"\"\"\n",
    "submission_df=pd.DataFrame()\n",
    "submission_df['ID_code']=x_test['ID_code']\n",
    "\n",
    "#TEST\n",
    "#submission_df['target']=predictions THIS IS THE REAL DEAL\n",
    "submission_df['target']=predictions_prob[1].values #TEST\n",
    "########################\n",
    "\n",
    "\"\"\"we are also creating a dummy columns to help us sort our data by ID code\"\"\"\n",
    "submission_df['dummy_index']=submission_df['ID_code'].apply(lambda x: int(x[5:]))\n",
    "\n",
    "submission_df\n",
    "\n",
    "\"\"\"Let's sort our data and save it as a CSV file! We are done!\"\"\"\n",
    "juan_submission=submission_df.sort_values(by='dummy_index')\n",
    "juan_submission.drop(['dummy_index'],axis=1).to_csv('juan_submission_v2.csv', index=False)\n",
    "final_submission=pd.read_csv(filepath_or_buffer='juan_submission_v2.csv')"
   ],
   "metadata": {
    "collapsed": false,
    "pycharm": {
     "name": "#%%\n"
    }
   }
  }
 ],
 "metadata": {
  "kernelspec": {
   "display_name": "Python 3",
   "language": "python",
   "name": "python3"
  },
  "language_info": {
   "codemirror_mode": {
    "name": "ipython",
    "version": 2
   },
   "file_extension": ".py",
   "mimetype": "text/x-python",
   "name": "python",
   "nbconvert_exporter": "python",
   "pygments_lexer": "ipython2",
   "version": "2.7.6"
  }
 },
 "nbformat": 4,
 "nbformat_minor": 0
}