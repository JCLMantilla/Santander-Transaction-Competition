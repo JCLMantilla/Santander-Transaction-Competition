{
 "cells": [
  {
   "cell_type": "markdown",
   "source": [
    "Imports"
   ],
   "metadata": {
    "collapsed": false,
    "pycharm": {
     "name": "#%% md\n"
    }
   }
  },
  {
   "cell_type": "code",
   "execution_count": 13,
   "outputs": [
    {
     "name": "stdout",
     "output_type": "stream",
     "text": [
      "Imports are ready!\n",
      "/Users/juansmacbook/PycharmProjects/Santander_Transaction/Santander-Transaction-Competition\r\n"
     ]
    }
   ],
   "source": [
    "import numpy as np\n",
    "import pandas as pd\n",
    "print('Imports are ready!')\n",
    "!pwd"
   ],
   "metadata": {
    "collapsed": false,
    "pycharm": {
     "name": "#%%\n"
    }
   }
  },
  {
   "cell_type": "markdown",
   "source": [
    " # **Loading Datasets**\n",
    "\n",
    " As you can see in both sets we contain 20k examples, each containing it's information of its \"ID_code\" and 200 numerical features. It is important to note that the training set contains an aditional column containing the binary target for each example"
   ],
   "metadata": {
    "collapsed": false,
    "pycharm": {
     "name": "#%% md\n"
    }
   }
  },
  {
   "cell_type": "code",
   "execution_count": 14,
   "outputs": [
    {
     "name": "stdout",
     "output_type": "stream",
     "text": [
      "Let us load the training and the test set, please wait.\n",
      "Shape of training set: (200000, 202)\n",
      "Shape of testing set: (200000, 201)\n"
     ]
    }
   ],
   "source": [
    "print(\"Let us load the training and the test set, please wait.\")\n",
    "train=pd.read_csv('/Users/juansmacbook/PycharmProjects/Santander_Transaction/santander_data/train.csv')\n",
    "test=pd.read_csv('/Users/juansmacbook/PycharmProjects/Santander_Transaction/santander_data/test.csv')\n",
    "print(\"Shape of training set: \"+str(train.shape))\n",
    "print(\"Shape of testing set: \"+str(test.shape))"
   ],
   "metadata": {
    "collapsed": false,
    "pycharm": {
     "name": "#%%\n"
    }
   }
  },
  {
   "cell_type": "markdown",
   "source": [
    "# **\"Magic\" and synthetic examples in the test dataset**\n",
    "This competition is interesting because people in the forums discovered that the 50% of the test set is synthetic! The key to distinguish the real testing examples from the fake ones is checking whether the value of a certain feature isn't repeated in another training example. Therefore, only the examples that have *at least one unique value in any of their features* are considered to be real!\n",
    "\n",
    "This of course wasn't discovered by me, this is what the community calls \"Magic\" when it comes to kaggle competitions. I will elaborate further on why this is really important for the model.\n",
    "\n",
    "In this order of ideas, my next task will be to filter out the fake testing examples and prove to you that this is actually the case. We should be able to notice that 10.000  training examples are real and 10.000 are fake!"
   ],
   "metadata": {
    "collapsed": false,
    "pycharm": {
     "name": "#%% md\n"
    }
   }
  },
  {
   "cell_type": "code",
   "execution_count": 15,
   "outputs": [],
   "source": [
    "\"\"\"Here we define a function that inputs a column from a data frame and returns a list of the values that only appear one time in that data set\"\"\"\n",
    "\n",
    "def unique_values(column):\n",
    "    count=column.value_counts()\n",
    "    return count.index[count==1]\n",
    "\n",
    "\"\"\"We are going to check what examples in test set are real or not by doing value counts, examples whose variables arent repeated in the whole test set are considered to be real!\"\"\"\n",
    "\n",
    "def feature_uniqueness(data_frame=test): # This function inputs the TEST DATASET and returns its \"extended\" version that says which feature is unique\n",
    "    for column in data_frame.columns[1:]: #Notice that we are dropping the first column since we don't care bout ID\n",
    "        new_column=pd.Series(\n",
    "            data=data_frame[column].isin(unique_values(data_frame[column])).to_numpy(),\n",
    "            name=column+'_unique?'\n",
    "        )\n",
    "        data_frame=pd.concat([data_frame,new_column],axis=1)\n",
    "    return data_frame"
   ],
   "metadata": {
    "collapsed": false,
    "pycharm": {
     "name": "#%%\n"
    }
   }
  },
  {
   "cell_type": "code",
   "execution_count": 16,
   "outputs": [
    {
     "data": {
      "text/plain": "  ID_code    var_0    var_1    var_2   var_3    var_4   var_5   var_6  \\\n0  test_0  11.0656   7.7798  12.9536  9.4292  11.4327 -2.3805  5.8493   \n1  test_1   8.5304   1.2543  11.3047  5.1858   9.1974 -4.0117  6.0196   \n2  test_2   5.4827 -10.3581  10.1407  7.0479  10.2628  9.8052  4.8950   \n3  test_3   8.5374  -1.3222  12.0220  6.5749   8.8458  3.1744  4.9397   \n4  test_4  11.7058  -0.1327  14.1295  7.7506   9.1035 -8.5848  6.8595   \n\n     var_7   var_8  ...  var_190_unique?  var_191_unique?  var_192_unique?  \\\n0  18.2675  2.1337  ...            False            False            False   \n1  18.6316 -4.4131  ...            False            False            False   \n2  20.2537  1.5233  ...            False            False            False   \n3  20.5660  3.3755  ...            False            False            False   \n4  10.6048  2.9890  ...            False            False            False   \n\n   var_193_unique?  var_194_unique?  var_195_unique?  var_196_unique?  \\\n0            False            False            False            False   \n1            False            False            False            False   \n2            False            False            False            False   \n3            False            False            False             True   \n4            False            False            False            False   \n\n   var_197_unique?  var_198_unique?  var_199_unique?  \n0            False            False            False  \n1            False            False            False  \n2            False            False            False  \n3             True            False            False  \n4            False            False            False  \n\n[5 rows x 401 columns]",
      "text/html": "<div>\n<style scoped>\n    .dataframe tbody tr th:only-of-type {\n        vertical-align: middle;\n    }\n\n    .dataframe tbody tr th {\n        vertical-align: top;\n    }\n\n    .dataframe thead th {\n        text-align: right;\n    }\n</style>\n<table border=\"1\" class=\"dataframe\">\n  <thead>\n    <tr style=\"text-align: right;\">\n      <th></th>\n      <th>ID_code</th>\n      <th>var_0</th>\n      <th>var_1</th>\n      <th>var_2</th>\n      <th>var_3</th>\n      <th>var_4</th>\n      <th>var_5</th>\n      <th>var_6</th>\n      <th>var_7</th>\n      <th>var_8</th>\n      <th>...</th>\n      <th>var_190_unique?</th>\n      <th>var_191_unique?</th>\n      <th>var_192_unique?</th>\n      <th>var_193_unique?</th>\n      <th>var_194_unique?</th>\n      <th>var_195_unique?</th>\n      <th>var_196_unique?</th>\n      <th>var_197_unique?</th>\n      <th>var_198_unique?</th>\n      <th>var_199_unique?</th>\n    </tr>\n  </thead>\n  <tbody>\n    <tr>\n      <th>0</th>\n      <td>test_0</td>\n      <td>11.0656</td>\n      <td>7.7798</td>\n      <td>12.9536</td>\n      <td>9.4292</td>\n      <td>11.4327</td>\n      <td>-2.3805</td>\n      <td>5.8493</td>\n      <td>18.2675</td>\n      <td>2.1337</td>\n      <td>...</td>\n      <td>False</td>\n      <td>False</td>\n      <td>False</td>\n      <td>False</td>\n      <td>False</td>\n      <td>False</td>\n      <td>False</td>\n      <td>False</td>\n      <td>False</td>\n      <td>False</td>\n    </tr>\n    <tr>\n      <th>1</th>\n      <td>test_1</td>\n      <td>8.5304</td>\n      <td>1.2543</td>\n      <td>11.3047</td>\n      <td>5.1858</td>\n      <td>9.1974</td>\n      <td>-4.0117</td>\n      <td>6.0196</td>\n      <td>18.6316</td>\n      <td>-4.4131</td>\n      <td>...</td>\n      <td>False</td>\n      <td>False</td>\n      <td>False</td>\n      <td>False</td>\n      <td>False</td>\n      <td>False</td>\n      <td>False</td>\n      <td>False</td>\n      <td>False</td>\n      <td>False</td>\n    </tr>\n    <tr>\n      <th>2</th>\n      <td>test_2</td>\n      <td>5.4827</td>\n      <td>-10.3581</td>\n      <td>10.1407</td>\n      <td>7.0479</td>\n      <td>10.2628</td>\n      <td>9.8052</td>\n      <td>4.8950</td>\n      <td>20.2537</td>\n      <td>1.5233</td>\n      <td>...</td>\n      <td>False</td>\n      <td>False</td>\n      <td>False</td>\n      <td>False</td>\n      <td>False</td>\n      <td>False</td>\n      <td>False</td>\n      <td>False</td>\n      <td>False</td>\n      <td>False</td>\n    </tr>\n    <tr>\n      <th>3</th>\n      <td>test_3</td>\n      <td>8.5374</td>\n      <td>-1.3222</td>\n      <td>12.0220</td>\n      <td>6.5749</td>\n      <td>8.8458</td>\n      <td>3.1744</td>\n      <td>4.9397</td>\n      <td>20.5660</td>\n      <td>3.3755</td>\n      <td>...</td>\n      <td>False</td>\n      <td>False</td>\n      <td>False</td>\n      <td>False</td>\n      <td>False</td>\n      <td>False</td>\n      <td>True</td>\n      <td>True</td>\n      <td>False</td>\n      <td>False</td>\n    </tr>\n    <tr>\n      <th>4</th>\n      <td>test_4</td>\n      <td>11.7058</td>\n      <td>-0.1327</td>\n      <td>14.1295</td>\n      <td>7.7506</td>\n      <td>9.1035</td>\n      <td>-8.5848</td>\n      <td>6.8595</td>\n      <td>10.6048</td>\n      <td>2.9890</td>\n      <td>...</td>\n      <td>False</td>\n      <td>False</td>\n      <td>False</td>\n      <td>False</td>\n      <td>False</td>\n      <td>False</td>\n      <td>False</td>\n      <td>False</td>\n      <td>False</td>\n      <td>False</td>\n    </tr>\n  </tbody>\n</table>\n<p>5 rows × 401 columns</p>\n</div>"
     },
     "execution_count": 16,
     "metadata": {},
     "output_type": "execute_result"
    }
   ],
   "source": [
    "\"\"\"This is our new data frame containing 200 extra features that tell us which feature is unique in each column for every training example\"\"\"\n",
    "temporal_df=feature_uniqueness()\n",
    "temporal_df.head()"
   ],
   "metadata": {
    "collapsed": false,
    "pycharm": {
     "name": "#%%\n"
    }
   }
  },
  {
   "cell_type": "markdown",
   "source": [
    "# **Proof that 50% of data set is fake!**\n",
    "Just as previously mentioned, the only examples that are we going to consider to be non-synthetic will be those have at least one unique value on their features, the ones that don't have any will be considered as fake. We can easily filter out the real and the fake ones via a simple condition.\n",
    "Using this condition we are going to split the training set into real and fake examples"
   ],
   "metadata": {
    "collapsed": false,
    "pycharm": {
     "name": "#%% md\n"
    }
   }
  },
  {
   "cell_type": "code",
   "execution_count": 18,
   "outputs": [
    {
     "name": "stdout",
     "output_type": "stream",
     "text": [
      "_.-._.-._.-._.-._.-._.-._.-._.-._.-._.-._.-._\n",
      "False    100000\n",
      "True     100000\n",
      "dtype: int64\n",
      "_.-._.-._.-._.-._.-._.-._.-._.-._.-._.-._.-._\n",
      "Just as mentioned in the forums, 50% of test data is fake!\n"
     ]
    }
   ],
   "source": [
    "#In each example we are checking whether if any of their lats 200 features has a true statement\n",
    "condition=temporal_df[temporal_df.columns[201:]].any(axis=1)\n",
    "\n",
    "print('_.-._.-._.-._.-._.-._.-._.-._.-._.-._.-._.-._')\n",
    "print(\n",
    "temporal_df[temporal_df.columns[201:]].any(axis=1).value_counts()\n",
    ")\n",
    "print('_.-._.-._.-._.-._.-._.-._.-._.-._.-._.-._.-._')\n",
    "print('Just as mentioned in the forums, 50% of test data is fake!')"
   ],
   "metadata": {
    "collapsed": false,
    "pycharm": {
     "name": "#%%\n"
    }
   }
  },
  {
   "cell_type": "code",
   "execution_count": 19,
   "outputs": [],
   "source": [
    "#Now we can split the dataset in the real part and the fake part\n",
    "real_test_examples=temporal_df[condition==True]\n",
    "fake_test_examples=temporal_df[condition==False]\n",
    "#del temporal_df #We delete temporal_df to save memory"
   ],
   "metadata": {
    "collapsed": false,
    "pycharm": {
     "name": "#%%\n"
    }
   }
  },
  {
   "cell_type": "markdown",
   "source": [
    "## Why filtering out real examples out of the testing set?\n",
    "We are doing this so we can do again a value"
   ],
   "metadata": {
    "collapsed": false,
    "pycharm": {
     "name": "#%% md\n"
    }
   }
  },
  {
   "cell_type": "code",
   "execution_count": 22,
   "outputs": [
    {
     "data": {
      "text/plain": "            ID_code    var_0    var_1    var_2   var_3    var_4    var_5  \\\n0            test_0  11.0656   7.7798  12.9536  9.4292  11.4327  -2.3805   \n1            test_1   8.5304   1.2543  11.3047  5.1858   9.1974  -4.0117   \n2            test_2   5.4827 -10.3581  10.1407  7.0479  10.2628   9.8052   \n3            test_3   8.5374  -1.3222  12.0220  6.5749   8.8458   3.1744   \n4            test_4  11.7058  -0.1327  14.1295  7.7506   9.1035  -8.5848   \n...             ...      ...      ...      ...     ...      ...      ...   \n199995  test_199995  13.1678   1.0136  10.4333  6.7997   8.5974  -4.1641   \n199996  test_199996   9.7171  -9.1462   7.3443  9.1421  12.8936   3.0191   \n199997  test_199997  11.6360   2.2769  11.2074  7.7649  12.6796  11.3224   \n199998  test_199998  13.5745  -0.5134  13.6584  7.4855  11.2241 -11.3037   \n199999  test_199999  10.4664   1.8070  10.2277  6.0654  10.0258   1.0789   \n\n         var_6    var_7   var_8  ...  var_190_unique?  var_191_unique?  \\\n0       5.8493  18.2675  2.1337  ...            False            False   \n1       6.0196  18.6316 -4.4131  ...            False            False   \n2       4.8950  20.2537  1.5233  ...            False            False   \n3       4.9397  20.5660  3.3755  ...            False            False   \n4       6.8595  10.6048  2.9890  ...            False            False   \n...        ...      ...     ...  ...              ...              ...   \n199995  4.8579  14.7625 -2.7239  ...            False            False   \n199996  5.6888  18.8862  5.0915  ...             True            False   \n199997  5.3883  18.3794  1.6603  ...            False            False   \n199998  4.1959  16.8280  5.3208  ...            False            False   \n199999  4.8879  14.4892 -0.5902  ...            False            False   \n\n        var_192_unique?  var_193_unique?  var_194_unique?  var_195_unique?  \\\n0                 False            False            False            False   \n1                 False            False            False            False   \n2                 False            False            False            False   \n3                 False            False            False            False   \n4                 False            False            False            False   \n...                 ...              ...              ...              ...   \n199995            False             True            False            False   \n199996            False            False            False            False   \n199997            False            False            False            False   \n199998            False            False            False            False   \n199999            False            False            False            False   \n\n        var_196_unique?  var_197_unique?  var_198_unique?  var_199_unique?  \n0                 False            False            False            False  \n1                 False            False            False            False  \n2                 False            False            False            False  \n3                  True             True            False            False  \n4                 False            False            False            False  \n...                 ...              ...              ...              ...  \n199995            False            False            False            False  \n199996            False            False            False             True  \n199997            False            False            False            False  \n199998            False            False            False            False  \n199999            False            False            False             True  \n\n[200000 rows x 401 columns]",
      "text/html": "<div>\n<style scoped>\n    .dataframe tbody tr th:only-of-type {\n        vertical-align: middle;\n    }\n\n    .dataframe tbody tr th {\n        vertical-align: top;\n    }\n\n    .dataframe thead th {\n        text-align: right;\n    }\n</style>\n<table border=\"1\" class=\"dataframe\">\n  <thead>\n    <tr style=\"text-align: right;\">\n      <th></th>\n      <th>ID_code</th>\n      <th>var_0</th>\n      <th>var_1</th>\n      <th>var_2</th>\n      <th>var_3</th>\n      <th>var_4</th>\n      <th>var_5</th>\n      <th>var_6</th>\n      <th>var_7</th>\n      <th>var_8</th>\n      <th>...</th>\n      <th>var_190_unique?</th>\n      <th>var_191_unique?</th>\n      <th>var_192_unique?</th>\n      <th>var_193_unique?</th>\n      <th>var_194_unique?</th>\n      <th>var_195_unique?</th>\n      <th>var_196_unique?</th>\n      <th>var_197_unique?</th>\n      <th>var_198_unique?</th>\n      <th>var_199_unique?</th>\n    </tr>\n  </thead>\n  <tbody>\n    <tr>\n      <th>0</th>\n      <td>test_0</td>\n      <td>11.0656</td>\n      <td>7.7798</td>\n      <td>12.9536</td>\n      <td>9.4292</td>\n      <td>11.4327</td>\n      <td>-2.3805</td>\n      <td>5.8493</td>\n      <td>18.2675</td>\n      <td>2.1337</td>\n      <td>...</td>\n      <td>False</td>\n      <td>False</td>\n      <td>False</td>\n      <td>False</td>\n      <td>False</td>\n      <td>False</td>\n      <td>False</td>\n      <td>False</td>\n      <td>False</td>\n      <td>False</td>\n    </tr>\n    <tr>\n      <th>1</th>\n      <td>test_1</td>\n      <td>8.5304</td>\n      <td>1.2543</td>\n      <td>11.3047</td>\n      <td>5.1858</td>\n      <td>9.1974</td>\n      <td>-4.0117</td>\n      <td>6.0196</td>\n      <td>18.6316</td>\n      <td>-4.4131</td>\n      <td>...</td>\n      <td>False</td>\n      <td>False</td>\n      <td>False</td>\n      <td>False</td>\n      <td>False</td>\n      <td>False</td>\n      <td>False</td>\n      <td>False</td>\n      <td>False</td>\n      <td>False</td>\n    </tr>\n    <tr>\n      <th>2</th>\n      <td>test_2</td>\n      <td>5.4827</td>\n      <td>-10.3581</td>\n      <td>10.1407</td>\n      <td>7.0479</td>\n      <td>10.2628</td>\n      <td>9.8052</td>\n      <td>4.8950</td>\n      <td>20.2537</td>\n      <td>1.5233</td>\n      <td>...</td>\n      <td>False</td>\n      <td>False</td>\n      <td>False</td>\n      <td>False</td>\n      <td>False</td>\n      <td>False</td>\n      <td>False</td>\n      <td>False</td>\n      <td>False</td>\n      <td>False</td>\n    </tr>\n    <tr>\n      <th>3</th>\n      <td>test_3</td>\n      <td>8.5374</td>\n      <td>-1.3222</td>\n      <td>12.0220</td>\n      <td>6.5749</td>\n      <td>8.8458</td>\n      <td>3.1744</td>\n      <td>4.9397</td>\n      <td>20.5660</td>\n      <td>3.3755</td>\n      <td>...</td>\n      <td>False</td>\n      <td>False</td>\n      <td>False</td>\n      <td>False</td>\n      <td>False</td>\n      <td>False</td>\n      <td>True</td>\n      <td>True</td>\n      <td>False</td>\n      <td>False</td>\n    </tr>\n    <tr>\n      <th>4</th>\n      <td>test_4</td>\n      <td>11.7058</td>\n      <td>-0.1327</td>\n      <td>14.1295</td>\n      <td>7.7506</td>\n      <td>9.1035</td>\n      <td>-8.5848</td>\n      <td>6.8595</td>\n      <td>10.6048</td>\n      <td>2.9890</td>\n      <td>...</td>\n      <td>False</td>\n      <td>False</td>\n      <td>False</td>\n      <td>False</td>\n      <td>False</td>\n      <td>False</td>\n      <td>False</td>\n      <td>False</td>\n      <td>False</td>\n      <td>False</td>\n    </tr>\n    <tr>\n      <th>...</th>\n      <td>...</td>\n      <td>...</td>\n      <td>...</td>\n      <td>...</td>\n      <td>...</td>\n      <td>...</td>\n      <td>...</td>\n      <td>...</td>\n      <td>...</td>\n      <td>...</td>\n      <td>...</td>\n      <td>...</td>\n      <td>...</td>\n      <td>...</td>\n      <td>...</td>\n      <td>...</td>\n      <td>...</td>\n      <td>...</td>\n      <td>...</td>\n      <td>...</td>\n      <td>...</td>\n    </tr>\n    <tr>\n      <th>199995</th>\n      <td>test_199995</td>\n      <td>13.1678</td>\n      <td>1.0136</td>\n      <td>10.4333</td>\n      <td>6.7997</td>\n      <td>8.5974</td>\n      <td>-4.1641</td>\n      <td>4.8579</td>\n      <td>14.7625</td>\n      <td>-2.7239</td>\n      <td>...</td>\n      <td>False</td>\n      <td>False</td>\n      <td>False</td>\n      <td>True</td>\n      <td>False</td>\n      <td>False</td>\n      <td>False</td>\n      <td>False</td>\n      <td>False</td>\n      <td>False</td>\n    </tr>\n    <tr>\n      <th>199996</th>\n      <td>test_199996</td>\n      <td>9.7171</td>\n      <td>-9.1462</td>\n      <td>7.3443</td>\n      <td>9.1421</td>\n      <td>12.8936</td>\n      <td>3.0191</td>\n      <td>5.6888</td>\n      <td>18.8862</td>\n      <td>5.0915</td>\n      <td>...</td>\n      <td>True</td>\n      <td>False</td>\n      <td>False</td>\n      <td>False</td>\n      <td>False</td>\n      <td>False</td>\n      <td>False</td>\n      <td>False</td>\n      <td>False</td>\n      <td>True</td>\n    </tr>\n    <tr>\n      <th>199997</th>\n      <td>test_199997</td>\n      <td>11.6360</td>\n      <td>2.2769</td>\n      <td>11.2074</td>\n      <td>7.7649</td>\n      <td>12.6796</td>\n      <td>11.3224</td>\n      <td>5.3883</td>\n      <td>18.3794</td>\n      <td>1.6603</td>\n      <td>...</td>\n      <td>False</td>\n      <td>False</td>\n      <td>False</td>\n      <td>False</td>\n      <td>False</td>\n      <td>False</td>\n      <td>False</td>\n      <td>False</td>\n      <td>False</td>\n      <td>False</td>\n    </tr>\n    <tr>\n      <th>199998</th>\n      <td>test_199998</td>\n      <td>13.5745</td>\n      <td>-0.5134</td>\n      <td>13.6584</td>\n      <td>7.4855</td>\n      <td>11.2241</td>\n      <td>-11.3037</td>\n      <td>4.1959</td>\n      <td>16.8280</td>\n      <td>5.3208</td>\n      <td>...</td>\n      <td>False</td>\n      <td>False</td>\n      <td>False</td>\n      <td>False</td>\n      <td>False</td>\n      <td>False</td>\n      <td>False</td>\n      <td>False</td>\n      <td>False</td>\n      <td>False</td>\n    </tr>\n    <tr>\n      <th>199999</th>\n      <td>test_199999</td>\n      <td>10.4664</td>\n      <td>1.8070</td>\n      <td>10.2277</td>\n      <td>6.0654</td>\n      <td>10.0258</td>\n      <td>1.0789</td>\n      <td>4.8879</td>\n      <td>14.4892</td>\n      <td>-0.5902</td>\n      <td>...</td>\n      <td>False</td>\n      <td>False</td>\n      <td>False</td>\n      <td>False</td>\n      <td>False</td>\n      <td>False</td>\n      <td>False</td>\n      <td>False</td>\n      <td>False</td>\n      <td>True</td>\n    </tr>\n  </tbody>\n</table>\n<p>200000 rows × 401 columns</p>\n</div>"
     },
     "execution_count": 22,
     "metadata": {},
     "output_type": "execute_result"
    }
   ],
   "source": [
    "temporal_df"
   ],
   "metadata": {
    "collapsed": false,
    "pycharm": {
     "name": "#%%\n"
    }
   }
  },
  {
   "cell_type": "code",
   "execution_count": 51,
   "outputs": [
    {
     "data": {
      "text/plain": "            ID_code    var_0   var_1    var_2   var_3    var_4    var_5  \\\n3            test_3   8.5374 -1.3222  12.0220  6.5749   8.8458   3.1744   \n7            test_7  17.3035 -2.4212  13.3989  8.3998  11.0777   9.6449   \n11          test_11  10.6137 -2.1898   8.9090  3.8014  13.8602  -5.9802   \n15          test_15  14.8595 -4.5378  13.6483  5.6480   9.9144   1.5190   \n16          test_16  14.1732 -5.1490   9.7591  3.7316  10.3700 -21.9202   \n...             ...      ...     ...      ...     ...      ...      ...   \n199986  test_199986  19.2884 -2.8384  11.9149  6.6611  12.3112  12.9244   \n199993  test_199993  14.6764 -8.1066   7.1167  2.4138  10.3845 -11.9327   \n199995  test_199995  13.1678  1.0136  10.4333  6.7997   8.5974  -4.1641   \n199996  test_199996   9.7171 -9.1462   7.3443  9.1421  12.8936   3.0191   \n199999  test_199999  10.4664  1.8070  10.2277  6.0654  10.0258   1.0789   \n\n         var_6    var_7   var_8  ...  var_190_unique?  var_191_unique?  \\\n3       4.9397  20.5660  3.3755  ...            False            False   \n7       5.9596  17.8477 -4.8068  ...            False            False   \n11      5.5515  15.4716 -0.1714  ...            False            False   \n15      5.0358  13.4524 -2.5419  ...            False            False   \n16      7.7130  18.8749  0.4680  ...            False            False   \n...        ...      ...     ...  ...              ...              ...   \n199986  5.6492  16.0449  5.3597  ...            False            False   \n199993  4.7563  16.0455  0.4510  ...             True            False   \n199995  4.8579  14.7625 -2.7239  ...            False            False   \n199996  5.6888  18.8862  5.0915  ...             True            False   \n199999  4.8879  14.4892 -0.5902  ...            False            False   \n\n        var_192_unique?  var_193_unique?  var_194_unique?  var_195_unique?  \\\n3                 False            False            False            False   \n7                 False            False            False            False   \n11                False            False            False            False   \n15                False            False            False            False   \n16                False             True            False            False   \n...                 ...              ...              ...              ...   \n199986            False            False            False            False   \n199993            False            False            False            False   \n199995            False             True            False            False   \n199996            False            False            False            False   \n199999            False            False            False            False   \n\n        var_196_unique?  var_197_unique?  var_198_unique?  var_199_unique?  \n3                  True             True            False            False  \n7                  True            False             True            False  \n11                False            False            False            False  \n15                False            False            False            False  \n16                False            False             True            False  \n...                 ...              ...              ...              ...  \n199986            False            False            False            False  \n199993            False            False            False             True  \n199995            False            False            False            False  \n199996            False            False            False             True  \n199999            False            False            False             True  \n\n[100000 rows x 401 columns]",
      "text/html": "<div>\n<style scoped>\n    .dataframe tbody tr th:only-of-type {\n        vertical-align: middle;\n    }\n\n    .dataframe tbody tr th {\n        vertical-align: top;\n    }\n\n    .dataframe thead th {\n        text-align: right;\n    }\n</style>\n<table border=\"1\" class=\"dataframe\">\n  <thead>\n    <tr style=\"text-align: right;\">\n      <th></th>\n      <th>ID_code</th>\n      <th>var_0</th>\n      <th>var_1</th>\n      <th>var_2</th>\n      <th>var_3</th>\n      <th>var_4</th>\n      <th>var_5</th>\n      <th>var_6</th>\n      <th>var_7</th>\n      <th>var_8</th>\n      <th>...</th>\n      <th>var_190_unique?</th>\n      <th>var_191_unique?</th>\n      <th>var_192_unique?</th>\n      <th>var_193_unique?</th>\n      <th>var_194_unique?</th>\n      <th>var_195_unique?</th>\n      <th>var_196_unique?</th>\n      <th>var_197_unique?</th>\n      <th>var_198_unique?</th>\n      <th>var_199_unique?</th>\n    </tr>\n  </thead>\n  <tbody>\n    <tr>\n      <th>3</th>\n      <td>test_3</td>\n      <td>8.5374</td>\n      <td>-1.3222</td>\n      <td>12.0220</td>\n      <td>6.5749</td>\n      <td>8.8458</td>\n      <td>3.1744</td>\n      <td>4.9397</td>\n      <td>20.5660</td>\n      <td>3.3755</td>\n      <td>...</td>\n      <td>False</td>\n      <td>False</td>\n      <td>False</td>\n      <td>False</td>\n      <td>False</td>\n      <td>False</td>\n      <td>True</td>\n      <td>True</td>\n      <td>False</td>\n      <td>False</td>\n    </tr>\n    <tr>\n      <th>7</th>\n      <td>test_7</td>\n      <td>17.3035</td>\n      <td>-2.4212</td>\n      <td>13.3989</td>\n      <td>8.3998</td>\n      <td>11.0777</td>\n      <td>9.6449</td>\n      <td>5.9596</td>\n      <td>17.8477</td>\n      <td>-4.8068</td>\n      <td>...</td>\n      <td>False</td>\n      <td>False</td>\n      <td>False</td>\n      <td>False</td>\n      <td>False</td>\n      <td>False</td>\n      <td>True</td>\n      <td>False</td>\n      <td>True</td>\n      <td>False</td>\n    </tr>\n    <tr>\n      <th>11</th>\n      <td>test_11</td>\n      <td>10.6137</td>\n      <td>-2.1898</td>\n      <td>8.9090</td>\n      <td>3.8014</td>\n      <td>13.8602</td>\n      <td>-5.9802</td>\n      <td>5.5515</td>\n      <td>15.4716</td>\n      <td>-0.1714</td>\n      <td>...</td>\n      <td>False</td>\n      <td>False</td>\n      <td>False</td>\n      <td>False</td>\n      <td>False</td>\n      <td>False</td>\n      <td>False</td>\n      <td>False</td>\n      <td>False</td>\n      <td>False</td>\n    </tr>\n    <tr>\n      <th>15</th>\n      <td>test_15</td>\n      <td>14.8595</td>\n      <td>-4.5378</td>\n      <td>13.6483</td>\n      <td>5.6480</td>\n      <td>9.9144</td>\n      <td>1.5190</td>\n      <td>5.0358</td>\n      <td>13.4524</td>\n      <td>-2.5419</td>\n      <td>...</td>\n      <td>False</td>\n      <td>False</td>\n      <td>False</td>\n      <td>False</td>\n      <td>False</td>\n      <td>False</td>\n      <td>False</td>\n      <td>False</td>\n      <td>False</td>\n      <td>False</td>\n    </tr>\n    <tr>\n      <th>16</th>\n      <td>test_16</td>\n      <td>14.1732</td>\n      <td>-5.1490</td>\n      <td>9.7591</td>\n      <td>3.7316</td>\n      <td>10.3700</td>\n      <td>-21.9202</td>\n      <td>7.7130</td>\n      <td>18.8749</td>\n      <td>0.4680</td>\n      <td>...</td>\n      <td>False</td>\n      <td>False</td>\n      <td>False</td>\n      <td>True</td>\n      <td>False</td>\n      <td>False</td>\n      <td>False</td>\n      <td>False</td>\n      <td>True</td>\n      <td>False</td>\n    </tr>\n    <tr>\n      <th>...</th>\n      <td>...</td>\n      <td>...</td>\n      <td>...</td>\n      <td>...</td>\n      <td>...</td>\n      <td>...</td>\n      <td>...</td>\n      <td>...</td>\n      <td>...</td>\n      <td>...</td>\n      <td>...</td>\n      <td>...</td>\n      <td>...</td>\n      <td>...</td>\n      <td>...</td>\n      <td>...</td>\n      <td>...</td>\n      <td>...</td>\n      <td>...</td>\n      <td>...</td>\n      <td>...</td>\n    </tr>\n    <tr>\n      <th>199986</th>\n      <td>test_199986</td>\n      <td>19.2884</td>\n      <td>-2.8384</td>\n      <td>11.9149</td>\n      <td>6.6611</td>\n      <td>12.3112</td>\n      <td>12.9244</td>\n      <td>5.6492</td>\n      <td>16.0449</td>\n      <td>5.3597</td>\n      <td>...</td>\n      <td>False</td>\n      <td>False</td>\n      <td>False</td>\n      <td>False</td>\n      <td>False</td>\n      <td>False</td>\n      <td>False</td>\n      <td>False</td>\n      <td>False</td>\n      <td>False</td>\n    </tr>\n    <tr>\n      <th>199993</th>\n      <td>test_199993</td>\n      <td>14.6764</td>\n      <td>-8.1066</td>\n      <td>7.1167</td>\n      <td>2.4138</td>\n      <td>10.3845</td>\n      <td>-11.9327</td>\n      <td>4.7563</td>\n      <td>16.0455</td>\n      <td>0.4510</td>\n      <td>...</td>\n      <td>True</td>\n      <td>False</td>\n      <td>False</td>\n      <td>False</td>\n      <td>False</td>\n      <td>False</td>\n      <td>False</td>\n      <td>False</td>\n      <td>False</td>\n      <td>True</td>\n    </tr>\n    <tr>\n      <th>199995</th>\n      <td>test_199995</td>\n      <td>13.1678</td>\n      <td>1.0136</td>\n      <td>10.4333</td>\n      <td>6.7997</td>\n      <td>8.5974</td>\n      <td>-4.1641</td>\n      <td>4.8579</td>\n      <td>14.7625</td>\n      <td>-2.7239</td>\n      <td>...</td>\n      <td>False</td>\n      <td>False</td>\n      <td>False</td>\n      <td>True</td>\n      <td>False</td>\n      <td>False</td>\n      <td>False</td>\n      <td>False</td>\n      <td>False</td>\n      <td>False</td>\n    </tr>\n    <tr>\n      <th>199996</th>\n      <td>test_199996</td>\n      <td>9.7171</td>\n      <td>-9.1462</td>\n      <td>7.3443</td>\n      <td>9.1421</td>\n      <td>12.8936</td>\n      <td>3.0191</td>\n      <td>5.6888</td>\n      <td>18.8862</td>\n      <td>5.0915</td>\n      <td>...</td>\n      <td>True</td>\n      <td>False</td>\n      <td>False</td>\n      <td>False</td>\n      <td>False</td>\n      <td>False</td>\n      <td>False</td>\n      <td>False</td>\n      <td>False</td>\n      <td>True</td>\n    </tr>\n    <tr>\n      <th>199999</th>\n      <td>test_199999</td>\n      <td>10.4664</td>\n      <td>1.8070</td>\n      <td>10.2277</td>\n      <td>6.0654</td>\n      <td>10.0258</td>\n      <td>1.0789</td>\n      <td>4.8879</td>\n      <td>14.4892</td>\n      <td>-0.5902</td>\n      <td>...</td>\n      <td>False</td>\n      <td>False</td>\n      <td>False</td>\n      <td>False</td>\n      <td>False</td>\n      <td>False</td>\n      <td>False</td>\n      <td>False</td>\n      <td>False</td>\n      <td>True</td>\n    </tr>\n  </tbody>\n</table>\n<p>100000 rows × 401 columns</p>\n</div>"
     },
     "execution_count": 51,
     "metadata": {},
     "output_type": "execute_result"
    }
   ],
   "source": [
    "#We create a new variable that says if an example is real or not\n",
    "#temporal_df.drop(x_test.columns[201:401], axis=1,\n",
    "#                 inplace=False#Cambiar por TRUE DESPUESSSS\n",
    "#                 )\n",
    "#temporal_df[7:8]\n",
    "real_test_examples"
   ],
   "metadata": {
    "collapsed": false,
    "pycharm": {
     "name": "#%%\n"
    }
   }
  },
  {
   "cell_type": "code",
   "execution_count": 57,
   "outputs": [],
   "source": [
    "#WE CONCAT TRAINING SET WITH REAL TRAINING EXAMPLES\n",
    "\n",
    "\n",
    "SUPER_TEST_DF=pd.concat([\n",
    "    train.drop([\"target\"], axis=1), #We drop the target column of the training set because the real_test_examples doesn't have one\n",
    "    real_test_examples.drop(columns=real_test_examples.columns[201:]) #We drop all columns containing if the variables are unique or not, so we can do tha value count again\n",
    "    ],axis=0, ignore_index=True) #Since both data frames contains repeated indices, it is important to reset them to avoid problems"
   ],
   "metadata": {
    "collapsed": false,
    "pycharm": {
     "name": "#%%\n"
    }
   }
  },
  {
   "cell_type": "code",
   "execution_count": null,
   "outputs": [],
   "source": [],
   "metadata": {
    "collapsed": false,
    "pycharm": {
     "name": "#%%\n"
    }
   }
  },
  {
   "cell_type": "code",
   "execution_count": null,
   "outputs": [],
   "source": [],
   "metadata": {
    "collapsed": false,
    "pycharm": {
     "name": "#%%\n"
    }
   }
  },
  {
   "cell_type": "code",
   "execution_count": 40,
   "outputs": [
    {
     "ename": "KeyError",
     "evalue": "\"['real'] not found in axis\"",
     "output_type": "error",
     "traceback": [
      "\u001B[0;31m---------------------------------------------------------------------------\u001B[0m",
      "\u001B[0;31mKeyError\u001B[0m                                  Traceback (most recent call last)",
      "Input \u001B[0;32mIn [40]\u001B[0m, in \u001B[0;36m<cell line: 3>\u001B[0;34m()\u001B[0m\n\u001B[1;32m      1\u001B[0m \u001B[38;5;66;03m# We are going to concatenate the train set and the real training examples into x_train to do a value count later\u001B[39;00m\n\u001B[1;32m      2\u001B[0m \u001B[38;5;66;03m# We check what values are uniques in both training set and real training set\u001B[39;00m\n\u001B[0;32m----> 3\u001B[0m x_train\u001B[38;5;241m=\u001B[39mpd\u001B[38;5;241m.\u001B[39mconcat( [train\u001B[38;5;241m.\u001B[39mdrop([\u001B[38;5;124m'\u001B[39m\u001B[38;5;124mtarget\u001B[39m\u001B[38;5;124m'\u001B[39m],axis\u001B[38;5;241m=\u001B[39m\u001B[38;5;241m1\u001B[39m), \u001B[43mreal_test_examples\u001B[49m\u001B[38;5;241;43m.\u001B[39;49m\u001B[43mdrop\u001B[49m\u001B[43m(\u001B[49m\u001B[43m[\u001B[49m\u001B[38;5;124;43m'\u001B[39;49m\u001B[38;5;124;43mreal\u001B[39;49m\u001B[38;5;124;43m'\u001B[39;49m\u001B[43m]\u001B[49m\u001B[43m,\u001B[49m\u001B[43m \u001B[49m\u001B[43maxis\u001B[49m\u001B[38;5;241;43m=\u001B[39;49m\u001B[38;5;241;43m1\u001B[39;49m\u001B[43m)\u001B[49m] , axis\u001B[38;5;241m=\u001B[39m\u001B[38;5;241m0\u001B[39m)\n\u001B[1;32m      4\u001B[0m x_train\u001B[38;5;241m.\u001B[39mreset_index(inplace\u001B[38;5;241m=\u001B[39m\u001B[38;5;28;01mTrue\u001B[39;00m) \u001B[38;5;66;03m#lets reset index to avoid problems later\u001B[39;00m\n\u001B[1;32m      5\u001B[0m x_train\u001B[38;5;241m.\u001B[39mdrop([\u001B[38;5;124m'\u001B[39m\u001B[38;5;124mindex\u001B[39m\u001B[38;5;124m'\u001B[39m], axis\u001B[38;5;241m=\u001B[39m\u001B[38;5;241m1\u001B[39m, inplace\u001B[38;5;241m=\u001B[39m\u001B[38;5;28;01mTrue\u001B[39;00m)\n",
      "File \u001B[0;32m~/PycharmProjects/Santander_Transaction/venv/lib/python3.8/site-packages/pandas/util/_decorators.py:311\u001B[0m, in \u001B[0;36mdeprecate_nonkeyword_arguments.<locals>.decorate.<locals>.wrapper\u001B[0;34m(*args, **kwargs)\u001B[0m\n\u001B[1;32m    305\u001B[0m \u001B[38;5;28;01mif\u001B[39;00m \u001B[38;5;28mlen\u001B[39m(args) \u001B[38;5;241m>\u001B[39m num_allow_args:\n\u001B[1;32m    306\u001B[0m     warnings\u001B[38;5;241m.\u001B[39mwarn(\n\u001B[1;32m    307\u001B[0m         msg\u001B[38;5;241m.\u001B[39mformat(arguments\u001B[38;5;241m=\u001B[39marguments),\n\u001B[1;32m    308\u001B[0m         \u001B[38;5;167;01mFutureWarning\u001B[39;00m,\n\u001B[1;32m    309\u001B[0m         stacklevel\u001B[38;5;241m=\u001B[39mstacklevel,\n\u001B[1;32m    310\u001B[0m     )\n\u001B[0;32m--> 311\u001B[0m \u001B[38;5;28;01mreturn\u001B[39;00m \u001B[43mfunc\u001B[49m\u001B[43m(\u001B[49m\u001B[38;5;241;43m*\u001B[39;49m\u001B[43margs\u001B[49m\u001B[43m,\u001B[49m\u001B[43m \u001B[49m\u001B[38;5;241;43m*\u001B[39;49m\u001B[38;5;241;43m*\u001B[39;49m\u001B[43mkwargs\u001B[49m\u001B[43m)\u001B[49m\n",
      "File \u001B[0;32m~/PycharmProjects/Santander_Transaction/venv/lib/python3.8/site-packages/pandas/core/frame.py:4954\u001B[0m, in \u001B[0;36mDataFrame.drop\u001B[0;34m(self, labels, axis, index, columns, level, inplace, errors)\u001B[0m\n\u001B[1;32m   4806\u001B[0m \u001B[38;5;129m@deprecate_nonkeyword_arguments\u001B[39m(version\u001B[38;5;241m=\u001B[39m\u001B[38;5;28;01mNone\u001B[39;00m, allowed_args\u001B[38;5;241m=\u001B[39m[\u001B[38;5;124m\"\u001B[39m\u001B[38;5;124mself\u001B[39m\u001B[38;5;124m\"\u001B[39m, \u001B[38;5;124m\"\u001B[39m\u001B[38;5;124mlabels\u001B[39m\u001B[38;5;124m\"\u001B[39m])\n\u001B[1;32m   4807\u001B[0m \u001B[38;5;28;01mdef\u001B[39;00m \u001B[38;5;21mdrop\u001B[39m(\n\u001B[1;32m   4808\u001B[0m     \u001B[38;5;28mself\u001B[39m,\n\u001B[0;32m   (...)\u001B[0m\n\u001B[1;32m   4815\u001B[0m     errors: \u001B[38;5;28mstr\u001B[39m \u001B[38;5;241m=\u001B[39m \u001B[38;5;124m\"\u001B[39m\u001B[38;5;124mraise\u001B[39m\u001B[38;5;124m\"\u001B[39m,\n\u001B[1;32m   4816\u001B[0m ):\n\u001B[1;32m   4817\u001B[0m     \u001B[38;5;124;03m\"\"\"\u001B[39;00m\n\u001B[1;32m   4818\u001B[0m \u001B[38;5;124;03m    Drop specified labels from rows or columns.\u001B[39;00m\n\u001B[1;32m   4819\u001B[0m \n\u001B[0;32m   (...)\u001B[0m\n\u001B[1;32m   4952\u001B[0m \u001B[38;5;124;03m            weight  1.0     0.8\u001B[39;00m\n\u001B[1;32m   4953\u001B[0m \u001B[38;5;124;03m    \"\"\"\u001B[39;00m\n\u001B[0;32m-> 4954\u001B[0m     \u001B[38;5;28;01mreturn\u001B[39;00m \u001B[38;5;28;43msuper\u001B[39;49m\u001B[43m(\u001B[49m\u001B[43m)\u001B[49m\u001B[38;5;241;43m.\u001B[39;49m\u001B[43mdrop\u001B[49m\u001B[43m(\u001B[49m\n\u001B[1;32m   4955\u001B[0m \u001B[43m        \u001B[49m\u001B[43mlabels\u001B[49m\u001B[38;5;241;43m=\u001B[39;49m\u001B[43mlabels\u001B[49m\u001B[43m,\u001B[49m\n\u001B[1;32m   4956\u001B[0m \u001B[43m        \u001B[49m\u001B[43maxis\u001B[49m\u001B[38;5;241;43m=\u001B[39;49m\u001B[43maxis\u001B[49m\u001B[43m,\u001B[49m\n\u001B[1;32m   4957\u001B[0m \u001B[43m        \u001B[49m\u001B[43mindex\u001B[49m\u001B[38;5;241;43m=\u001B[39;49m\u001B[43mindex\u001B[49m\u001B[43m,\u001B[49m\n\u001B[1;32m   4958\u001B[0m \u001B[43m        \u001B[49m\u001B[43mcolumns\u001B[49m\u001B[38;5;241;43m=\u001B[39;49m\u001B[43mcolumns\u001B[49m\u001B[43m,\u001B[49m\n\u001B[1;32m   4959\u001B[0m \u001B[43m        \u001B[49m\u001B[43mlevel\u001B[49m\u001B[38;5;241;43m=\u001B[39;49m\u001B[43mlevel\u001B[49m\u001B[43m,\u001B[49m\n\u001B[1;32m   4960\u001B[0m \u001B[43m        \u001B[49m\u001B[43minplace\u001B[49m\u001B[38;5;241;43m=\u001B[39;49m\u001B[43minplace\u001B[49m\u001B[43m,\u001B[49m\n\u001B[1;32m   4961\u001B[0m \u001B[43m        \u001B[49m\u001B[43merrors\u001B[49m\u001B[38;5;241;43m=\u001B[39;49m\u001B[43merrors\u001B[49m\u001B[43m,\u001B[49m\n\u001B[1;32m   4962\u001B[0m \u001B[43m    \u001B[49m\u001B[43m)\u001B[49m\n",
      "File \u001B[0;32m~/PycharmProjects/Santander_Transaction/venv/lib/python3.8/site-packages/pandas/core/generic.py:4267\u001B[0m, in \u001B[0;36mNDFrame.drop\u001B[0;34m(self, labels, axis, index, columns, level, inplace, errors)\u001B[0m\n\u001B[1;32m   4265\u001B[0m \u001B[38;5;28;01mfor\u001B[39;00m axis, labels \u001B[38;5;129;01min\u001B[39;00m axes\u001B[38;5;241m.\u001B[39mitems():\n\u001B[1;32m   4266\u001B[0m     \u001B[38;5;28;01mif\u001B[39;00m labels \u001B[38;5;129;01mis\u001B[39;00m \u001B[38;5;129;01mnot\u001B[39;00m \u001B[38;5;28;01mNone\u001B[39;00m:\n\u001B[0;32m-> 4267\u001B[0m         obj \u001B[38;5;241m=\u001B[39m \u001B[43mobj\u001B[49m\u001B[38;5;241;43m.\u001B[39;49m\u001B[43m_drop_axis\u001B[49m\u001B[43m(\u001B[49m\u001B[43mlabels\u001B[49m\u001B[43m,\u001B[49m\u001B[43m \u001B[49m\u001B[43maxis\u001B[49m\u001B[43m,\u001B[49m\u001B[43m \u001B[49m\u001B[43mlevel\u001B[49m\u001B[38;5;241;43m=\u001B[39;49m\u001B[43mlevel\u001B[49m\u001B[43m,\u001B[49m\u001B[43m \u001B[49m\u001B[43merrors\u001B[49m\u001B[38;5;241;43m=\u001B[39;49m\u001B[43merrors\u001B[49m\u001B[43m)\u001B[49m\n\u001B[1;32m   4269\u001B[0m \u001B[38;5;28;01mif\u001B[39;00m inplace:\n\u001B[1;32m   4270\u001B[0m     \u001B[38;5;28mself\u001B[39m\u001B[38;5;241m.\u001B[39m_update_inplace(obj)\n",
      "File \u001B[0;32m~/PycharmProjects/Santander_Transaction/venv/lib/python3.8/site-packages/pandas/core/generic.py:4311\u001B[0m, in \u001B[0;36mNDFrame._drop_axis\u001B[0;34m(self, labels, axis, level, errors, consolidate, only_slice)\u001B[0m\n\u001B[1;32m   4309\u001B[0m         new_axis \u001B[38;5;241m=\u001B[39m axis\u001B[38;5;241m.\u001B[39mdrop(labels, level\u001B[38;5;241m=\u001B[39mlevel, errors\u001B[38;5;241m=\u001B[39merrors)\n\u001B[1;32m   4310\u001B[0m     \u001B[38;5;28;01melse\u001B[39;00m:\n\u001B[0;32m-> 4311\u001B[0m         new_axis \u001B[38;5;241m=\u001B[39m \u001B[43maxis\u001B[49m\u001B[38;5;241;43m.\u001B[39;49m\u001B[43mdrop\u001B[49m\u001B[43m(\u001B[49m\u001B[43mlabels\u001B[49m\u001B[43m,\u001B[49m\u001B[43m \u001B[49m\u001B[43merrors\u001B[49m\u001B[38;5;241;43m=\u001B[39;49m\u001B[43merrors\u001B[49m\u001B[43m)\u001B[49m\n\u001B[1;32m   4312\u001B[0m     indexer \u001B[38;5;241m=\u001B[39m axis\u001B[38;5;241m.\u001B[39mget_indexer(new_axis)\n\u001B[1;32m   4314\u001B[0m \u001B[38;5;66;03m# Case for non-unique axis\u001B[39;00m\n\u001B[1;32m   4315\u001B[0m \u001B[38;5;28;01melse\u001B[39;00m:\n",
      "File \u001B[0;32m~/PycharmProjects/Santander_Transaction/venv/lib/python3.8/site-packages/pandas/core/indexes/base.py:6644\u001B[0m, in \u001B[0;36mIndex.drop\u001B[0;34m(self, labels, errors)\u001B[0m\n\u001B[1;32m   6642\u001B[0m \u001B[38;5;28;01mif\u001B[39;00m mask\u001B[38;5;241m.\u001B[39many():\n\u001B[1;32m   6643\u001B[0m     \u001B[38;5;28;01mif\u001B[39;00m errors \u001B[38;5;241m!=\u001B[39m \u001B[38;5;124m\"\u001B[39m\u001B[38;5;124mignore\u001B[39m\u001B[38;5;124m\"\u001B[39m:\n\u001B[0;32m-> 6644\u001B[0m         \u001B[38;5;28;01mraise\u001B[39;00m \u001B[38;5;167;01mKeyError\u001B[39;00m(\u001B[38;5;124mf\u001B[39m\u001B[38;5;124m\"\u001B[39m\u001B[38;5;132;01m{\u001B[39;00m\u001B[38;5;28mlist\u001B[39m(labels[mask])\u001B[38;5;132;01m}\u001B[39;00m\u001B[38;5;124m not found in axis\u001B[39m\u001B[38;5;124m\"\u001B[39m)\n\u001B[1;32m   6645\u001B[0m     indexer \u001B[38;5;241m=\u001B[39m indexer[\u001B[38;5;241m~\u001B[39mmask]\n\u001B[1;32m   6646\u001B[0m \u001B[38;5;28;01mreturn\u001B[39;00m \u001B[38;5;28mself\u001B[39m\u001B[38;5;241m.\u001B[39mdelete(indexer)\n",
      "\u001B[0;31mKeyError\u001B[0m: \"['real'] not found in axis\""
     ]
    }
   ],
   "source": [
    "# We are going to concatenate the train set and the real training examples into x_train to do a value count later\n",
    "# We check what values are uniques in both training set and real training set\n",
    "x_train=pd.concat( [train.drop(['target'],axis=1), real_test_examples.drop(['real'], axis=1)] , axis=0) #LISTOLISTOLISTOLISTOLISTOLISTOLISTOLISTOLISTOLISTO\n",
    "x_train.reset_index(inplace=True) #lets reset index to avoid problems later #LISTOLISTOLISTOLISTOLISTOLISTOLISTOLISTOLISTOLISTO\n",
    "x_train.drop(['index'], axis=1, inplace=True) #LISTOLISTOLISTOLISTOLISTOLISTOLISTOLISTOLISTOLISTOLISTOLISTOLISTOLISTO\n",
    "\n",
    "print('Shape after concatenating: '+str(x_train.shape))\n",
    "\n",
    "\n",
    "# We append to the dataset 200 new features containing what values are unique\n",
    "for column in x_train.columns[1:]:\n",
    "    uniques_count=x_train[column].value_counts().to_dict()\n",
    "    x_train[column+'_unique']=x_train[column].apply(lambda x: 1 if uniques_count[x]==1 else 0).values\n",
    "    fake_test_examples[column+'_unique']= 0\n",
    "print('Finished!')\n",
    "#We create the final test set containing all unique value counts!!!!!!\n",
    "fake_test_examples.drop(['real'], axis=1, inplace=True)\n",
    "x_test=pd.concat([x_train[:][200000:],fake_test_examples])\n",
    "\n",
    "#We create the final training set containing value counts!\n",
    "x_train=x_train[:][:200000]\n",
    "\n",
    "\n",
    "print('Ready!')"
   ],
   "metadata": {
    "collapsed": false,
    "pycharm": {
     "name": "#%%\n"
    }
   }
  },
  {
   "cell_type": "code",
   "execution_count": null,
   "outputs": [],
   "source": [],
   "metadata": {
    "collapsed": false,
    "pycharm": {
     "name": "#%%\n"
    }
   }
  },
  {
   "cell_type": "code",
   "execution_count": null,
   "outputs": [],
   "source": [],
   "metadata": {
    "collapsed": false,
    "pycharm": {
     "name": "#%%\n"
    }
   }
  },
  {
   "cell_type": "code",
   "execution_count": null,
   "outputs": [],
   "source": [],
   "metadata": {
    "collapsed": false,
    "pycharm": {
     "name": "#%%\n"
    }
   }
  },
  {
   "cell_type": "code",
   "execution_count": null,
   "outputs": [],
   "source": [],
   "metadata": {
    "collapsed": false,
    "pycharm": {
     "name": "#%%\n"
    }
   }
  }
 ],
 "metadata": {
  "kernelspec": {
   "display_name": "Python 3",
   "language": "python",
   "name": "python3"
  },
  "language_info": {
   "codemirror_mode": {
    "name": "ipython",
    "version": 2
   },
   "file_extension": ".py",
   "mimetype": "text/x-python",
   "name": "python",
   "nbconvert_exporter": "python",
   "pygments_lexer": "ipython2",
   "version": "2.7.6"
  }
 },
 "nbformat": 4,
 "nbformat_minor": 0
}