{
 "cells": [
  {
   "cell_type": "markdown",
   "source": [
    "## Imports"
   ],
   "metadata": {
    "collapsed": false,
    "pycharm": {
     "name": "#%% md\n"
    }
   }
  },
  {
   "cell_type": "code",
   "execution_count": 12,
   "outputs": [
    {
     "name": "stdout",
     "output_type": "stream",
     "text": [
      "Now using sklearn version 1.0.2\n",
      "Packages are Ready!!!\n"
     ]
    }
   ],
   "source": [
    "import numpy as np\n",
    "import pandas as pd\n",
    "import sklearn as sklearn\n",
    "from sklearn.ensemble import HistGradientBoostingClassifier\n",
    "print('Now using sklearn version '+sklearn.__version__)\n",
    "print('Packages are Ready!!!')"
   ],
   "metadata": {
    "collapsed": false,
    "pycharm": {
     "name": "#%%\n"
    }
   }
  },
  {
   "cell_type": "code",
   "execution_count": 13,
   "outputs": [
    {
     "name": "stdout",
     "output_type": "stream",
     "text": [
      "Boosting copy.ipynb       final_submission.csv      train.csv\r\n",
      "DataGeneration copy.ipynb test.csv                  train_augmented.csv\r\n",
      "README.md                 test_augmented.csv\r\n"
     ]
    }
   ],
   "source": [
    "!ls"
   ],
   "metadata": {
    "collapsed": false,
    "pycharm": {
     "name": "#%%\n"
    }
   }
  },
  {
   "cell_type": "markdown",
   "source": [
    "## Loading data"
   ],
   "metadata": {
    "collapsed": false,
    "pycharm": {
     "name": "#%% md\n"
    }
   }
  },
  {
   "cell_type": "code",
   "execution_count": 14,
   "outputs": [],
   "source": [
    "def load_augmented_data(): #Loads the augmented dataset\n",
    "    train_augmented=pd.read_csv(filepath_or_buffer='/Users/juansmacbook/PycharmProjects/Santander_Transaction/Santander-Transaction-Competition/train_augmented.csv')\n",
    "    test_augmented=pd.read_csv(filepath_or_buffer='/Users/juansmacbook/PycharmProjects/Santander_Transaction/Santander-Transaction-Competition/test_augmented.csv')\n",
    "    print('Augmented datasets are ready')\n",
    "    return train_augmented , test_augmented\n",
    "\n",
    "def load_original_data(): # Loads the original datasets of the competition\n",
    "    test=pd.read_csv('/Users/juansmacbook/PycharmProjects/Santander_Transaction/Santander-Transaction-Competition/test.csv')\n",
    "    train=pd.read_csv('/Users/juansmacbook/PycharmProjects/Santander_Transaction/Santander-Transaction-Competition/train.csv')\n",
    "    print('Original datasets are ready')\n",
    "    return train, test"
   ],
   "metadata": {
    "collapsed": false,
    "pycharm": {
     "name": "#%%\n"
    }
   }
  },
  {
   "cell_type": "code",
   "execution_count": 15,
   "outputs": [
    {
     "name": "stdout",
     "output_type": "stream",
     "text": [
      "Augmented datasets are ready\n"
     ]
    }
   ],
   "source": [
    "train_augmented , test_augmented = load_augmented_data()"
   ],
   "metadata": {
    "collapsed": false,
    "pycharm": {
     "name": "#%%\n"
    }
   }
  },
  {
   "cell_type": "markdown",
   "source": [
    "## Resampling\n",
    "We are going to resample the missrepresented class in the training dataset, in this way we are going to balance out the classes."
   ],
   "metadata": {
    "collapsed": false,
    "pycharm": {
     "name": "#%% md\n"
    }
   }
  },
  {
   "cell_type": "code",
   "execution_count": 16,
   "outputs": [
    {
     "data": {
      "text/plain": "0    179902\n1    179902\nName: Number of examples, dtype: int64"
     },
     "execution_count": 16,
     "metadata": {},
     "output_type": "execute_result"
    }
   ],
   "source": [
    "\n",
    "\"\"\"Since we are dealing with an imbalanced data set we are going to deal with it  by oversampling the underrepresented class\"\"\"\n",
    "\n",
    "from imblearn.over_sampling import RandomOverSampler\n",
    "# we define a function that are going to balance the classes in a training set\n",
    "def resample_data(dataset): #gets a dataset and returns the balanced version of them\n",
    "    rov=RandomOverSampler()\n",
    "    x_resampled, y_resampled = rov.fit_resample(\n",
    "        X=dataset[dataset.columns[2:]].to_numpy(),\n",
    "        y=dataset['target'].to_numpy())\n",
    "    return x_resampled, y_resampled # return the dataset and their targets\n",
    "\n",
    "\"\"\" Let's use the function that we just declared\"\"\"\n",
    "x_resampled, y_resampled = resample_data(train_augmented)\n",
    "\"\"\" We can now see the number example for each class\"\"\"\n",
    "pd.Series(name='Number of examples', data=y_resampled).value_counts()"
   ],
   "metadata": {
    "collapsed": false,
    "pycharm": {
     "name": "#%%\n"
    }
   }
  },
  {
   "cell_type": "markdown",
   "source": [
    "## Boosting time"
   ],
   "metadata": {
    "collapsed": false,
    "pycharm": {
     "name": "#%% md\n"
    }
   }
  },
  {
   "cell_type": "code",
   "execution_count": 17,
   "outputs": [],
   "source": [
    "\"\"\"initializes an instance of a gradient boosting classifier \"\"\"\n",
    "def get_hgbc():\n",
    "    hgbc=sklearn.ensemble.HistGradientBoostingClassifier(\n",
    "        #Hyper parameters\n",
    "        max_iter=1000, #Trees to be build\n",
    "        early_stopping=True,\n",
    "        #validation_fraction=0.02,\n",
    "        learning_rate=0.1,\n",
    "        warm_start=True,\n",
    "        #Metrics and over-fitting\n",
    "        loss='binary_crossentropy',\n",
    "        l2_regularization=0.01,\n",
    "        scoring='roc_auc',\n",
    "        # Tree parameters\n",
    "        min_samples_leaf=120,\n",
    "        max_leaf_nodes=13,\n",
    "        max_depth=None,\n",
    "        #ETC\n",
    "        verbose=1\n",
    "    )\n",
    "    return hgbc\n",
    "model=get_hgbc()"
   ],
   "metadata": {
    "collapsed": false,
    "pycharm": {
     "name": "#%%\n"
    }
   }
  },
  {
   "cell_type": "markdown",
   "source": [
    "### cross validation scheme DONT TOUCH YET"
   ],
   "metadata": {
    "collapsed": false,
    "pycharm": {
     "name": "#%% md\n"
    }
   }
  },
  {
   "cell_type": "code",
   "execution_count": 18,
   "outputs": [],
   "source": [
    "#from sklearn.model_selection import cross_val_score\n",
    "#val_scores=cross_val_score(model, x_resampled, y_resampled, cv=5, scoring='roc_auc')\n",
    "#val_scores"
   ],
   "metadata": {
    "collapsed": false,
    "pycharm": {
     "name": "#%%\n"
    }
   }
  },
  {
   "cell_type": "markdown",
   "source": [
    "### normal training DO NOT TOUCH"
   ],
   "metadata": {
    "collapsed": false,
    "pycharm": {
     "name": "#%% md\n"
    }
   }
  },
  {
   "cell_type": "code",
   "execution_count": 19,
   "outputs": [
    {
     "name": "stdout",
     "output_type": "stream",
     "text": [
      "Binning 1.036 GB of training data: "
     ]
    },
    {
     "ename": "KeyboardInterrupt",
     "evalue": "",
     "output_type": "error",
     "traceback": [
      "\u001B[0;31m---------------------------------------------------------------------------\u001B[0m",
      "\u001B[0;31mKeyboardInterrupt\u001B[0m                         Traceback (most recent call last)",
      "Input \u001B[0;32mIn [19]\u001B[0m, in \u001B[0;36m<cell line: 2>\u001B[0;34m()\u001B[0m\n\u001B[1;32m      1\u001B[0m \u001B[38;5;124;03m\"\"\"Creates and fits model with the resampled data\"\"\"\u001B[39;00m\n\u001B[0;32m----> 2\u001B[0m \u001B[43mmodel\u001B[49m\u001B[38;5;241;43m.\u001B[39;49m\u001B[43mfit\u001B[49m\u001B[43m(\u001B[49m\u001B[43mx_resampled\u001B[49m\u001B[43m,\u001B[49m\u001B[43m \u001B[49m\u001B[43my_resampled\u001B[49m\u001B[43m,\u001B[49m\u001B[43m \u001B[49m\u001B[43msample_weight\u001B[49m\u001B[38;5;241;43m=\u001B[39;49m\u001B[38;5;28;43;01mNone\u001B[39;49;00m\u001B[43m)\u001B[49m\n\u001B[1;32m      3\u001B[0m \u001B[38;5;28mprint\u001B[39m(\u001B[38;5;124m'\u001B[39m\u001B[38;5;124mTraining done!\u001B[39m\u001B[38;5;124m'\u001B[39m)\n",
      "File \u001B[0;32m~/PycharmProjects/Santander_Transaction/venv/lib/python3.8/site-packages/sklearn/ensemble/_hist_gradient_boosting/gradient_boosting.py:341\u001B[0m, in \u001B[0;36mBaseHistGradientBoosting.fit\u001B[0;34m(self, X, y, sample_weight)\u001B[0m\n\u001B[1;32m    333\u001B[0m n_bins \u001B[38;5;241m=\u001B[39m \u001B[38;5;28mself\u001B[39m\u001B[38;5;241m.\u001B[39mmax_bins \u001B[38;5;241m+\u001B[39m \u001B[38;5;241m1\u001B[39m  \u001B[38;5;66;03m# + 1 for missing values\u001B[39;00m\n\u001B[1;32m    334\u001B[0m \u001B[38;5;28mself\u001B[39m\u001B[38;5;241m.\u001B[39m_bin_mapper \u001B[38;5;241m=\u001B[39m _BinMapper(\n\u001B[1;32m    335\u001B[0m     n_bins\u001B[38;5;241m=\u001B[39mn_bins,\n\u001B[1;32m    336\u001B[0m     is_categorical\u001B[38;5;241m=\u001B[39m\u001B[38;5;28mself\u001B[39m\u001B[38;5;241m.\u001B[39mis_categorical_,\n\u001B[0;32m   (...)\u001B[0m\n\u001B[1;32m    339\u001B[0m     n_threads\u001B[38;5;241m=\u001B[39mn_threads,\n\u001B[1;32m    340\u001B[0m )\n\u001B[0;32m--> 341\u001B[0m X_binned_train \u001B[38;5;241m=\u001B[39m \u001B[38;5;28;43mself\u001B[39;49m\u001B[38;5;241;43m.\u001B[39;49m\u001B[43m_bin_data\u001B[49m\u001B[43m(\u001B[49m\u001B[43mX_train\u001B[49m\u001B[43m,\u001B[49m\u001B[43m \u001B[49m\u001B[43mis_training_data\u001B[49m\u001B[38;5;241;43m=\u001B[39;49m\u001B[38;5;28;43;01mTrue\u001B[39;49;00m\u001B[43m)\u001B[49m\n\u001B[1;32m    342\u001B[0m \u001B[38;5;28;01mif\u001B[39;00m X_val \u001B[38;5;129;01mis\u001B[39;00m \u001B[38;5;129;01mnot\u001B[39;00m \u001B[38;5;28;01mNone\u001B[39;00m:\n\u001B[1;32m    343\u001B[0m     X_binned_val \u001B[38;5;241m=\u001B[39m \u001B[38;5;28mself\u001B[39m\u001B[38;5;241m.\u001B[39m_bin_data(X_val, is_training_data\u001B[38;5;241m=\u001B[39m\u001B[38;5;28;01mFalse\u001B[39;00m)\n",
      "File \u001B[0;32m~/PycharmProjects/Santander_Transaction/venv/lib/python3.8/site-packages/sklearn/ensemble/_hist_gradient_boosting/gradient_boosting.py:770\u001B[0m, in \u001B[0;36mBaseHistGradientBoosting._bin_data\u001B[0;34m(self, X, is_training_data)\u001B[0m\n\u001B[1;32m    768\u001B[0m tic \u001B[38;5;241m=\u001B[39m time()\n\u001B[1;32m    769\u001B[0m \u001B[38;5;28;01mif\u001B[39;00m is_training_data:\n\u001B[0;32m--> 770\u001B[0m     X_binned \u001B[38;5;241m=\u001B[39m \u001B[38;5;28;43mself\u001B[39;49m\u001B[38;5;241;43m.\u001B[39;49m\u001B[43m_bin_mapper\u001B[49m\u001B[38;5;241;43m.\u001B[39;49m\u001B[43mfit_transform\u001B[49m\u001B[43m(\u001B[49m\u001B[43mX\u001B[49m\u001B[43m)\u001B[49m  \u001B[38;5;66;03m# F-aligned array\u001B[39;00m\n\u001B[1;32m    771\u001B[0m \u001B[38;5;28;01melse\u001B[39;00m:\n\u001B[1;32m    772\u001B[0m     X_binned \u001B[38;5;241m=\u001B[39m \u001B[38;5;28mself\u001B[39m\u001B[38;5;241m.\u001B[39m_bin_mapper\u001B[38;5;241m.\u001B[39mtransform(X)  \u001B[38;5;66;03m# F-aligned array\u001B[39;00m\n",
      "File \u001B[0;32m~/PycharmProjects/Santander_Transaction/venv/lib/python3.8/site-packages/sklearn/base.py:852\u001B[0m, in \u001B[0;36mTransformerMixin.fit_transform\u001B[0;34m(self, X, y, **fit_params)\u001B[0m\n\u001B[1;32m    848\u001B[0m \u001B[38;5;66;03m# non-optimized default implementation; override when a better\u001B[39;00m\n\u001B[1;32m    849\u001B[0m \u001B[38;5;66;03m# method is possible for a given clustering algorithm\u001B[39;00m\n\u001B[1;32m    850\u001B[0m \u001B[38;5;28;01mif\u001B[39;00m y \u001B[38;5;129;01mis\u001B[39;00m \u001B[38;5;28;01mNone\u001B[39;00m:\n\u001B[1;32m    851\u001B[0m     \u001B[38;5;66;03m# fit method of arity 1 (unsupervised transformation)\u001B[39;00m\n\u001B[0;32m--> 852\u001B[0m     \u001B[38;5;28;01mreturn\u001B[39;00m \u001B[38;5;28;43mself\u001B[39;49m\u001B[38;5;241;43m.\u001B[39;49m\u001B[43mfit\u001B[49m\u001B[43m(\u001B[49m\u001B[43mX\u001B[49m\u001B[43m,\u001B[49m\u001B[43m \u001B[49m\u001B[38;5;241;43m*\u001B[39;49m\u001B[38;5;241;43m*\u001B[39;49m\u001B[43mfit_params\u001B[49m\u001B[43m)\u001B[49m\u001B[38;5;241m.\u001B[39mtransform(X)\n\u001B[1;32m    853\u001B[0m \u001B[38;5;28;01melse\u001B[39;00m:\n\u001B[1;32m    854\u001B[0m     \u001B[38;5;66;03m# fit method of arity 2 (supervised transformation)\u001B[39;00m\n\u001B[1;32m    855\u001B[0m     \u001B[38;5;28;01mreturn\u001B[39;00m \u001B[38;5;28mself\u001B[39m\u001B[38;5;241m.\u001B[39mfit(X, y, \u001B[38;5;241m*\u001B[39m\u001B[38;5;241m*\u001B[39mfit_params)\u001B[38;5;241m.\u001B[39mtransform(X)\n",
      "File \u001B[0;32m~/PycharmProjects/Santander_Transaction/venv/lib/python3.8/site-packages/sklearn/ensemble/_hist_gradient_boosting/binning.py:232\u001B[0m, in \u001B[0;36m_BinMapper.fit\u001B[0;34m(self, X, y)\u001B[0m\n\u001B[1;32m    230\u001B[0m \u001B[38;5;28;01mfor\u001B[39;00m f_idx \u001B[38;5;129;01min\u001B[39;00m \u001B[38;5;28mrange\u001B[39m(n_features):\n\u001B[1;32m    231\u001B[0m     \u001B[38;5;28;01mif\u001B[39;00m \u001B[38;5;129;01mnot\u001B[39;00m \u001B[38;5;28mself\u001B[39m\u001B[38;5;241m.\u001B[39mis_categorical_[f_idx]:\n\u001B[0;32m--> 232\u001B[0m         thresholds \u001B[38;5;241m=\u001B[39m \u001B[43m_find_binning_thresholds\u001B[49m\u001B[43m(\u001B[49m\u001B[43mX\u001B[49m\u001B[43m[\u001B[49m\u001B[43m:\u001B[49m\u001B[43m,\u001B[49m\u001B[43m \u001B[49m\u001B[43mf_idx\u001B[49m\u001B[43m]\u001B[49m\u001B[43m,\u001B[49m\u001B[43m \u001B[49m\u001B[43mmax_bins\u001B[49m\u001B[43m)\u001B[49m\n\u001B[1;32m    233\u001B[0m         n_bins_non_missing\u001B[38;5;241m.\u001B[39mappend(thresholds\u001B[38;5;241m.\u001B[39mshape[\u001B[38;5;241m0\u001B[39m] \u001B[38;5;241m+\u001B[39m \u001B[38;5;241m1\u001B[39m)\n\u001B[1;32m    234\u001B[0m     \u001B[38;5;28;01melse\u001B[39;00m:\n\u001B[1;32m    235\u001B[0m         \u001B[38;5;66;03m# Since categories are assumed to be encoded in\u001B[39;00m\n\u001B[1;32m    236\u001B[0m         \u001B[38;5;66;03m# [0, n_cats] and since n_cats <= max_bins,\u001B[39;00m\n\u001B[1;32m    237\u001B[0m         \u001B[38;5;66;03m# the thresholds *are* the unique categorical values. This will\u001B[39;00m\n\u001B[1;32m    238\u001B[0m         \u001B[38;5;66;03m# lead to the correct mapping in transform()\u001B[39;00m\n",
      "File \u001B[0;32m~/PycharmProjects/Santander_Transaction/venv/lib/python3.8/site-packages/sklearn/ensemble/_hist_gradient_boosting/binning.py:45\u001B[0m, in \u001B[0;36m_find_binning_thresholds\u001B[0;34m(col_data, max_bins)\u001B[0m\n\u001B[1;32m     23\u001B[0m \u001B[38;5;124;03m\"\"\"Extract quantiles from a continuous feature.\u001B[39;00m\n\u001B[1;32m     24\u001B[0m \n\u001B[1;32m     25\u001B[0m \u001B[38;5;124;03mMissing values are ignored for finding the thresholds.\u001B[39;00m\n\u001B[0;32m   (...)\u001B[0m\n\u001B[1;32m     42\u001B[0m \u001B[38;5;124;03m    bining_thresholds[i - 1] < x <= binning_thresholds[i]\u001B[39;00m\n\u001B[1;32m     43\u001B[0m \u001B[38;5;124;03m\"\"\"\u001B[39;00m\n\u001B[1;32m     44\u001B[0m \u001B[38;5;66;03m# ignore missing values when computing bin thresholds\u001B[39;00m\n\u001B[0;32m---> 45\u001B[0m missing_mask \u001B[38;5;241m=\u001B[39m \u001B[43mnp\u001B[49m\u001B[38;5;241;43m.\u001B[39;49m\u001B[43misnan\u001B[49m\u001B[43m(\u001B[49m\u001B[43mcol_data\u001B[49m\u001B[43m)\u001B[49m\n\u001B[1;32m     46\u001B[0m \u001B[38;5;28;01mif\u001B[39;00m missing_mask\u001B[38;5;241m.\u001B[39many():\n\u001B[1;32m     47\u001B[0m     col_data \u001B[38;5;241m=\u001B[39m col_data[\u001B[38;5;241m~\u001B[39mmissing_mask]\n",
      "\u001B[0;31mKeyboardInterrupt\u001B[0m: "
     ]
    }
   ],
   "source": [
    "\"\"\"Creates and fits model with the resampled data\"\"\"\n",
    "model.fit(x_resampled, y_resampled, sample_weight=None)\n",
    "print('Training done!')"
   ],
   "metadata": {
    "collapsed": false,
    "pycharm": {
     "name": "#%%\n"
    }
   }
  },
  {
   "cell_type": "markdown",
   "source": [
    "## Getting predictions"
   ],
   "metadata": {
    "collapsed": false,
    "pycharm": {
     "name": "#%% md\n"
    }
   }
  },
  {
   "cell_type": "code",
   "execution_count": 145,
   "outputs": [
    {
     "data": {
      "text/plain": "array([[0.43771888, 0.56228112],\n       [0.52591029, 0.47408971],\n       [0.36161216, 0.63838784],\n       ...,\n       [0.71576694, 0.28423306],\n       [0.4180953 , 0.5819047 ],\n       [0.47697832, 0.52302168]])"
     },
     "execution_count": 145,
     "metadata": {},
     "output_type": "execute_result"
    }
   ],
   "source": [
    "predictions_prob=model.predict_proba(test_augmented[test_augmented.columns[1:]].to_numpy())\n",
    "predictions_prob"
   ],
   "metadata": {
    "collapsed": false,
    "pycharm": {
     "name": "#%%\n"
    }
   }
  },
  {
   "cell_type": "code",
   "execution_count": 146,
   "outputs": [],
   "source": [
    "\"\"\" We create a fucntion that uses the trained model to save a CVS file ready for sumbmission\"\"\"\n",
    "def get_submission():\n",
    "    submission=pd.DataFrame(data={\"ID_code\":test_augmented['ID_code'].to_numpy(), \"target\": predictions_prob[:,1] })\n",
    "    \"\"\"Saves the submission file\"\"\"\n",
    "    submission.to_csv('final_submission.csv', index=False)\n",
    "    return submission\n",
    "submission = get_submission()\n"
   ],
   "metadata": {
    "collapsed": false,
    "pycharm": {
     "name": "#%%\n"
    }
   }
  },
  {
   "cell_type": "code",
   "execution_count": 148,
   "outputs": [
    {
     "name": "stdout",
     "output_type": "stream",
     "text": [
      "Boosting copy.ipynb       final_submission.csv      train.csv\r\n",
      "DataGeneration copy.ipynb test.csv                  train_augmented.csv\r\n",
      "README.md                 test_augmented.csv\r\n"
     ]
    }
   ],
   "source": [
    "!ls"
   ],
   "metadata": {
    "collapsed": false,
    "pycharm": {
     "name": "#%%\n"
    }
   }
  },
  {
   "cell_type": "code",
   "execution_count": 147,
   "outputs": [],
   "source": [],
   "metadata": {
    "collapsed": false,
    "pycharm": {
     "name": "#%%\n"
    }
   }
  }
 ],
 "metadata": {
  "kernelspec": {
   "display_name": "Python 3",
   "language": "python",
   "name": "python3"
  },
  "language_info": {
   "codemirror_mode": {
    "name": "ipython",
    "version": 2
   },
   "file_extension": ".py",
   "mimetype": "text/x-python",
   "name": "python",
   "nbconvert_exporter": "python",
   "pygments_lexer": "ipython2",
   "version": "2.7.6"
  }
 },
 "nbformat": 4,
 "nbformat_minor": 0
}