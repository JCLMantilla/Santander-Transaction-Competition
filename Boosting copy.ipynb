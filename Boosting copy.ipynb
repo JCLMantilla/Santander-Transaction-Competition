{
 "cells": [
  {
   "cell_type": "markdown",
   "source": [
    "## Imports"
   ],
   "metadata": {
    "collapsed": false,
    "pycharm": {
     "name": "#%% md\n"
    }
   }
  },
  {
   "cell_type": "code",
   "execution_count": 70,
   "outputs": [
    {
     "name": "stdout",
     "output_type": "stream",
     "text": [
      "Now using sklearn version 1.0.2\n",
      "Packages are Ready!!!\n"
     ]
    }
   ],
   "source": [
    "import numpy as np\n",
    "import pandas as pd\n",
    "import sklearn as sklearn\n",
    "from sklearn.ensemble import HistGradientBoostingClassifier\n",
    "print('Now using sklearn version '+sklearn.__version__)\n",
    "print('Packages are Ready!!!')"
   ],
   "metadata": {
    "collapsed": false,
    "pycharm": {
     "name": "#%%\n"
    }
   }
  },
  {
   "cell_type": "markdown",
   "source": [
    "## Loading data"
   ],
   "metadata": {
    "collapsed": false,
    "pycharm": {
     "name": "#%% md\n"
    }
   }
  },
  {
   "cell_type": "code",
   "execution_count": 71,
   "outputs": [],
   "source": [
    "def load_augmented_data(): #Loads the augmented dataset\n",
    "    train_augmented=pd.read_csv(filepath_or_buffer='/Users/juansmacbook/PycharmProjects/Santander_Transaction/Santander-Transaction-Competition/train_augmented.csv')\n",
    "    test_augmented=pd.read_csv(filepath_or_buffer='/Users/juansmacbook/PycharmProjects/Santander_Transaction/Santander-Transaction-Competition/test_augmented.csv')\n",
    "    print('Augmented datasets are ready')\n",
    "    return train_augmented , test_augmented\n",
    "\n",
    "def load_original_data(): # Loads the original datasets of the competition\n",
    "    test=pd.read_csv('/Users/juansmacbook/PycharmProjects/Santander_Transaction/Santander-Transaction-Competition/test.csv')\n",
    "    train=pd.read_csv('/Users/juansmacbook/PycharmProjects/Santander_Transaction/Santander-Transaction-Competition/train.csv')\n",
    "    print('Original datasets are ready')\n",
    "    return train, test"
   ],
   "metadata": {
    "collapsed": false,
    "pycharm": {
     "name": "#%%\n"
    }
   }
  },
  {
   "cell_type": "code",
   "execution_count": 72,
   "outputs": [
    {
     "name": "stdout",
     "output_type": "stream",
     "text": [
      "Augmented datasets are ready\n"
     ]
    }
   ],
   "source": [
    "train_augmented , test_augmented = load_augmented_data()"
   ],
   "metadata": {
    "collapsed": false,
    "pycharm": {
     "name": "#%%\n"
    }
   }
  },
  {
   "cell_type": "markdown",
   "source": [
    "## Resampling\n",
    "We are going to resample the missrepresented class in the training dataset, in this way we are going to balance out the classes."
   ],
   "metadata": {
    "collapsed": false,
    "pycharm": {
     "name": "#%% md\n"
    }
   }
  },
  {
   "cell_type": "code",
   "execution_count": 73,
   "outputs": [],
   "source": [
    "training_set=x_train[x_train.columns[1:]].to_numpy()\n",
    "training_labels=train['target'].to_numpy()"
   ],
   "metadata": {
    "collapsed": false,
    "pycharm": {
     "name": "#%%\n"
    }
   }
  },
  {
   "cell_type": "code",
   "execution_count": 74,
   "outputs": [
    {
     "data": {
      "text/plain": "0    179902\n1    179902\nName: Number of examples, dtype: int64"
     },
     "execution_count": 74,
     "metadata": {},
     "output_type": "execute_result"
    }
   ],
   "source": [
    "\n",
    "\"\"\"Since we are dealing with an imbalanced data set we are going to deal with it  by oversampling the underrepresented class\"\"\"\n",
    "\n",
    "from imblearn.over_sampling import RandomOverSampler\n",
    "# we define a function that are going to balance the classes in a training set\n",
    "def resample_data(dataset): #gets a dataset and returns the balanced version of them\n",
    "    rov=RandomOverSampler()\n",
    "    x_resampled, y_resampled = rov.fit_resample(\n",
    "        X=dataset[dataset.columns[2:]].to_numpy(),\n",
    "        y=dataset['target'].to_numpy())\n",
    "    return x_resampled, y_resampled # return the dataset and their targets\n",
    "\n",
    "\"\"\" Let's use the function that we just declared\"\"\"\n",
    "x_resampled, y_resampled = resample_data(train_augmented)\n",
    "\"\"\" We can now see the number example for each class\"\"\"\n",
    "pd.Series(name='Number of examples', data=y_resampled).value_counts()"
   ],
   "metadata": {
    "collapsed": false,
    "pycharm": {
     "name": "#%%\n"
    }
   }
  },
  {
   "cell_type": "markdown",
   "source": [
    "## Boosting time"
   ],
   "metadata": {
    "collapsed": false,
    "pycharm": {
     "name": "#%% md\n"
    }
   }
  },
  {
   "cell_type": "code",
   "execution_count": 79,
   "outputs": [],
   "source": [
    "\"\"\"initializes an instance of a gradient boosting classifier \"\"\"\n",
    "def get_hgbc():\n",
    "    hgbc=sklearn.ensemble.HistGradientBoostingClassifier(\n",
    "        #Hyper parameters\n",
    "        max_iter=20, #Trees to be build\n",
    "        early_stopping=True,\n",
    "        #validation_fraction=0.02,\n",
    "        learning_rate=0.1,\n",
    "        warm_start=True,\n",
    "        #Metrics and over-fitting\n",
    "        loss='binary_crossentropy',\n",
    "        l2_regularization=0.01,\n",
    "        scoring='roc_auc',\n",
    "        # Tree parameters\n",
    "        min_samples_leaf=120,\n",
    "        max_leaf_nodes=13,\n",
    "        max_depth=None,\n",
    "        #ETC\n",
    "        verbose=0\n",
    "    )\n",
    "    return hgbc\n",
    "model=get_hgbc()"
   ],
   "metadata": {
    "collapsed": false,
    "pycharm": {
     "name": "#%%\n"
    }
   }
  },
  {
   "cell_type": "markdown",
   "source": [
    "### cross validation scheme DONT TOUCH YET"
   ],
   "metadata": {
    "collapsed": false,
    "pycharm": {
     "name": "#%% md\n"
    }
   }
  },
  {
   "cell_type": "code",
   "execution_count": 91,
   "outputs": [],
   "source": [
    "#from sklearn.model_selection import cross_val_score\n",
    "#val_scores=cross_val_score(model, x_resampled, y_resampled, cv=5, scoring='roc_auc')\n",
    "#val_scores"
   ],
   "metadata": {
    "collapsed": false,
    "pycharm": {
     "name": "#%%\n"
    }
   }
  },
  {
   "cell_type": "markdown",
   "source": [
    "### normal training DO NOT TOUCH"
   ],
   "metadata": {
    "collapsed": false,
    "pycharm": {
     "name": "#%% md\n"
    }
   }
  },
  {
   "cell_type": "code",
   "execution_count": 92,
   "outputs": [
    {
     "name": "stdout",
     "output_type": "stream",
     "text": [
      "Training done!\n"
     ]
    }
   ],
   "source": [
    "\"\"\"Creates and fits model with the resampled data\"\"\"\n",
    "model.fit(x_resampled, y_resampled, sample_weight=None)\n",
    "print('Training done!')"
   ],
   "metadata": {
    "collapsed": false,
    "pycharm": {
     "name": "#%%\n"
    }
   }
  },
  {
   "cell_type": "markdown",
   "source": [
    "## Getting predictions"
   ],
   "metadata": {
    "collapsed": false,
    "pycharm": {
     "name": "#%% md\n"
    }
   }
  },
  {
   "cell_type": "code",
   "execution_count": 115,
   "outputs": [
    {
     "data": {
      "text/plain": "array([[0.44971398, 0.55028602],\n       [0.49924233, 0.50075767],\n       [0.4223962 , 0.5776038 ],\n       ...,\n       [0.71225859, 0.28774141],\n       [0.39790359, 0.60209641],\n       [0.4809846 , 0.5190154 ]])"
     },
     "execution_count": 115,
     "metadata": {},
     "output_type": "execute_result"
    }
   ],
   "source": [
    "predictions_prob=model.predict_proba(test_augmented[test_augmented.columns[1:]].to_numpy())\n",
    "predictions_prob"
   ],
   "metadata": {
    "collapsed": false,
    "pycharm": {
     "name": "#%%\n"
    }
   }
  },
  {
   "cell_type": "code",
   "execution_count": 119,
   "outputs": [
    {
     "data": {
      "text/plain": "array([0.55028602, 0.50075767, 0.5776038 , ..., 0.28774141, 0.60209641,\n       0.5190154 ])"
     },
     "execution_count": 119,
     "metadata": {},
     "output_type": "execute_result"
    }
   ],
   "source": [
    "predictions_prob[:,1]\n",
    "sumb"
   ],
   "metadata": {
    "collapsed": false,
    "pycharm": {
     "name": "#%%\n"
    }
   }
  },
  {
   "cell_type": "code",
   "execution_count": 48,
   "outputs": [],
   "source": [
    "\"\"\" We create a fucntion that uses the trained model to save a CVS file ready for sumbmission\"\"\"\n",
    "def get_sumbmission(model):\n",
    "\n",
    "    return 0\n",
    "\n",
    "\n",
    "\"\"\"Let's get ready for submission. Creating a DataFrame containing ID codes and targets\"\"\"\n",
    "submission_df=pd.DataFrame()\n",
    "submission_df['ID_code']=x_test['ID_code']\n",
    "\n",
    "#TEST\n",
    "#submission_df['target']=predictions THIS IS THE REAL DEAL\n",
    "submission_df['target']=predictions_prob[1].values #TEST\n",
    "########################\n",
    "\n",
    "\"\"\"we are also creating a dummy columns to help us sort our data by ID code\"\"\"\n",
    "submission_df['dummy_index']=submission_df['ID_code'].apply(lambda x: int(x[5:]))\n",
    "\n",
    "submission_df\n",
    "\n",
    "\"\"\"Let's sort our data and save it as a CSV file! We are done!\"\"\"\n",
    "juan_submission=submission_df.sort_values(by='dummy_index')\n",
    "juan_submission.drop(['dummy_index'],axis=1).to_csv('juan_submission.csv', index=False)\n",
    "final_submission=pd.read_csv(filepath_or_buffer='juan_submission.csv')"
   ],
   "metadata": {
    "collapsed": false,
    "pycharm": {
     "name": "#%%\n"
    }
   }
  },
  {
   "cell_type": "code",
   "execution_count": 52,
   "outputs": [
    {
     "name": "stdout",
     "output_type": "stream",
     "text": [
      "Boosting copy.ipynb       juan_submission.csv       x_test.csv\r\n",
      "DataGeneration copy.ipynb test.csv                  x_train.csv\r\n",
      "README.md                 train.csv\r\n"
     ]
    }
   ],
   "source": [
    "!ls"
   ],
   "metadata": {
    "collapsed": false,
    "pycharm": {
     "name": "#%%\n"
    }
   }
  },
  {
   "cell_type": "code",
   "execution_count": 51,
   "outputs": [
    {
     "data": {
      "text/plain": "            ID_code    target\n0            test_0  0.503196\n1            test_1  0.791701\n2            test_2  0.769796\n3            test_3  0.487299\n4            test_4  0.378554\n...             ...       ...\n199995  test_199995  0.320715\n199996  test_199996  0.065481\n199997  test_199997  0.104253\n199998  test_199998  0.472951\n199999  test_199999  0.378694\n\n[200000 rows x 2 columns]",
      "text/html": "<div>\n<style scoped>\n    .dataframe tbody tr th:only-of-type {\n        vertical-align: middle;\n    }\n\n    .dataframe tbody tr th {\n        vertical-align: top;\n    }\n\n    .dataframe thead th {\n        text-align: right;\n    }\n</style>\n<table border=\"1\" class=\"dataframe\">\n  <thead>\n    <tr style=\"text-align: right;\">\n      <th></th>\n      <th>ID_code</th>\n      <th>target</th>\n    </tr>\n  </thead>\n  <tbody>\n    <tr>\n      <th>0</th>\n      <td>test_0</td>\n      <td>0.503196</td>\n    </tr>\n    <tr>\n      <th>1</th>\n      <td>test_1</td>\n      <td>0.791701</td>\n    </tr>\n    <tr>\n      <th>2</th>\n      <td>test_2</td>\n      <td>0.769796</td>\n    </tr>\n    <tr>\n      <th>3</th>\n      <td>test_3</td>\n      <td>0.487299</td>\n    </tr>\n    <tr>\n      <th>4</th>\n      <td>test_4</td>\n      <td>0.378554</td>\n    </tr>\n    <tr>\n      <th>...</th>\n      <td>...</td>\n      <td>...</td>\n    </tr>\n    <tr>\n      <th>199995</th>\n      <td>test_199995</td>\n      <td>0.320715</td>\n    </tr>\n    <tr>\n      <th>199996</th>\n      <td>test_199996</td>\n      <td>0.065481</td>\n    </tr>\n    <tr>\n      <th>199997</th>\n      <td>test_199997</td>\n      <td>0.104253</td>\n    </tr>\n    <tr>\n      <th>199998</th>\n      <td>test_199998</td>\n      <td>0.472951</td>\n    </tr>\n    <tr>\n      <th>199999</th>\n      <td>test_199999</td>\n      <td>0.378694</td>\n    </tr>\n  </tbody>\n</table>\n<p>200000 rows × 2 columns</p>\n</div>"
     },
     "execution_count": 51,
     "metadata": {},
     "output_type": "execute_result"
    }
   ],
   "source": [
    "final_submission"
   ],
   "metadata": {
    "collapsed": false,
    "pycharm": {
     "name": "#%%\n"
    }
   }
  },
  {
   "cell_type": "code",
   "execution_count": 2,
   "outputs": [
    {
     "name": "stdout",
     "output_type": "stream",
     "text": [
      "Boosting copy.ipynb       juan_submission.csv       x_test.csv\r\n",
      "DataGeneration copy.ipynb test.csv                  x_train.csv\r\n",
      "README.md                 train.csv\r\n"
     ]
    }
   ],
   "source": [],
   "metadata": {
    "collapsed": false,
    "pycharm": {
     "name": "#%%\n"
    }
   }
  },
  {
   "cell_type": "code",
   "execution_count": 52,
   "outputs": [],
   "source": [],
   "metadata": {
    "collapsed": false,
    "pycharm": {
     "name": "#%%\n"
    }
   }
  }
 ],
 "metadata": {
  "kernelspec": {
   "display_name": "Python 3",
   "language": "python",
   "name": "python3"
  },
  "language_info": {
   "codemirror_mode": {
    "name": "ipython",
    "version": 2
   },
   "file_extension": ".py",
   "mimetype": "text/x-python",
   "name": "python",
   "nbconvert_exporter": "python",
   "pygments_lexer": "ipython2",
   "version": "2.7.6"
  }
 },
 "nbformat": 4,
 "nbformat_minor": 0
}