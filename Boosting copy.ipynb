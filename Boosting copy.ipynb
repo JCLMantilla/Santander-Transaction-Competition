{
 "cells": [
  {
   "cell_type": "markdown",
   "source": [
    "Imports"
   ],
   "metadata": {
    "collapsed": false,
    "pycharm": {
     "name": "#%% md\n"
    }
   }
  },
  {
   "cell_type": "code",
   "execution_count": 1,
   "outputs": [
    {
     "name": "stdout",
     "output_type": "stream",
     "text": [
      "Now using sklearn version 1.0.2\n",
      "Packages are Ready!\n",
      "Hola\n"
     ]
    }
   ],
   "source": [
    "import numpy as np\n",
    "import pandas as pd\n",
    "import sklearn as sklearn\n",
    "from sklearn.ensemble import HistGradientBoostingClassifier\n",
    "print('Now using sklearn version '+sklearn.__version__)\n",
    "print('Packages are Ready!')\n",
    "print(\"Hola\")"
   ],
   "metadata": {
    "collapsed": false,
    "pycharm": {
     "name": "#%%\n"
    }
   }
  },
  {
   "cell_type": "markdown",
   "source": [
    "Loading data"
   ],
   "metadata": {
    "collapsed": false,
    "pycharm": {
     "name": "#%% md\n"
    }
   }
  },
  {
   "cell_type": "code",
   "execution_count": 23,
   "outputs": [
    {
     "name": "stdout",
     "output_type": "stream",
     "text": [
      "Loading data...\n",
      "Data is ready!!!!\n"
     ]
    }
   ],
   "source": [
    "print('Loading data...')\n",
    "\"\"\"we are also importing training and testing data from competition because they might become handy\"\"\"\n",
    "\n",
    "test=pd.read_csv('/Users/juansmacbook/PycharmProjects/Santander_Transaction/Santander-Transaction-Competition/test.csv')\n",
    "train=pd.read_csv('/Users/juansmacbook/PycharmProjects/Santander_Transaction/Santander-Transaction-Competition/train.csv')\n",
    "\n",
    "\"\"\"reading data data\"\"\"\n",
    "\n",
    "x_test=pd.read_csv('/Users/juansmacbook/PycharmProjects/Santander_Transaction/Santander-Transaction-Competition/x_test.csv')\n",
    "x_train=pd.read_csv('/Users/juansmacbook/PycharmProjects/Santander_Transaction/Santander-Transaction-Competition/x_train.csv')\n",
    "\n",
    "print('Data is ready!!!!')\n"
   ],
   "metadata": {
    "collapsed": false,
    "pycharm": {
     "name": "#%%\n"
    }
   }
  },
  {
   "cell_type": "code",
   "execution_count": 25,
   "outputs": [
    {
     "data": {
      "text/plain": "             ID_code    var_0   var_1    var_2   var_3    var_4    var_5  \\\n0            train_0   8.9255 -6.7863  11.9081  5.0930  11.4607  -9.2834   \n1            train_1  11.5006 -4.1473  13.8588  5.3890  12.3622   7.0433   \n2            train_2   8.6093 -2.7457  12.0805  7.8928  10.5825  -9.0837   \n3            train_3  11.0604 -2.1518   8.9522  7.1957  12.5846  -1.8361   \n4            train_4   9.8369 -1.4834  12.8746  6.6375  12.2772   2.4486   \n...              ...      ...     ...      ...     ...      ...      ...   \n199995  train_199995  11.4880 -0.4956   8.2622  3.5142  10.3404  11.6081   \n199996  train_199996   4.9149 -2.4484  16.7052  6.6345   8.3096 -10.5628   \n199997  train_199997  11.2232 -5.0518  10.5127  5.6456   9.3410  -5.4086   \n199998  train_199998   9.7148 -8.6098  13.6104  5.7930  12.5173   0.5339   \n199999  train_199999  10.8762 -5.7105  12.1183  8.0328  11.5577   0.3488   \n\n         var_6    var_7   var_8  ...  var_190_unique?  var_191_unique?  \\\n0       5.1187  18.6266 -4.9200  ...                0                0   \n1       5.6208  16.5338  3.1468  ...                0                0   \n2       6.9427  14.6155 -4.9193  ...                0                0   \n3       5.8428  14.9250 -5.8609  ...                0                0   \n4       5.9405  19.2514  6.2654  ...                0                0   \n...        ...      ...     ...  ...              ...              ...   \n199995  5.6709  15.1516 -0.6209  ...                0                1   \n199996  5.8802  21.5940 -3.6797  ...                0                0   \n199997  4.5555  21.5571  0.1202  ...                0                0   \n199998  6.0479  17.0152 -2.1926  ...                0                0   \n199999  5.2839  15.2058 -0.4541  ...                0                0   \n\n        var_192_unique?  var_193_unique?  var_194_unique?  var_195_unique?  \\\n0                     0                0                0                0   \n1                     0                0                0                0   \n2                     0                0                0                0   \n3                     0                0                0                0   \n4                     1                1                1                0   \n...                 ...              ...              ...              ...   \n199995                0                0                0                0   \n199996                0                1                0                0   \n199997                0                0                0                0   \n199998                0                0                0                0   \n199999                0                0                0                0   \n\n        var_196_unique?  var_197_unique?  var_198_unique?  var_199_unique?  \n0                     0                0                0                0  \n1                     0                0                0                0  \n2                     0                0                0                0  \n3                     0                0                0                0  \n4                     0                0                0                0  \n...                 ...              ...              ...              ...  \n199995                1                0                0                0  \n199996                0                0                0                0  \n199997                0                0                0                1  \n199998                0                0                0                1  \n199999                0                0                0                1  \n\n[200000 rows x 401 columns]",
      "text/html": "<div>\n<style scoped>\n    .dataframe tbody tr th:only-of-type {\n        vertical-align: middle;\n    }\n\n    .dataframe tbody tr th {\n        vertical-align: top;\n    }\n\n    .dataframe thead th {\n        text-align: right;\n    }\n</style>\n<table border=\"1\" class=\"dataframe\">\n  <thead>\n    <tr style=\"text-align: right;\">\n      <th></th>\n      <th>ID_code</th>\n      <th>var_0</th>\n      <th>var_1</th>\n      <th>var_2</th>\n      <th>var_3</th>\n      <th>var_4</th>\n      <th>var_5</th>\n      <th>var_6</th>\n      <th>var_7</th>\n      <th>var_8</th>\n      <th>...</th>\n      <th>var_190_unique?</th>\n      <th>var_191_unique?</th>\n      <th>var_192_unique?</th>\n      <th>var_193_unique?</th>\n      <th>var_194_unique?</th>\n      <th>var_195_unique?</th>\n      <th>var_196_unique?</th>\n      <th>var_197_unique?</th>\n      <th>var_198_unique?</th>\n      <th>var_199_unique?</th>\n    </tr>\n  </thead>\n  <tbody>\n    <tr>\n      <th>0</th>\n      <td>train_0</td>\n      <td>8.9255</td>\n      <td>-6.7863</td>\n      <td>11.9081</td>\n      <td>5.0930</td>\n      <td>11.4607</td>\n      <td>-9.2834</td>\n      <td>5.1187</td>\n      <td>18.6266</td>\n      <td>-4.9200</td>\n      <td>...</td>\n      <td>0</td>\n      <td>0</td>\n      <td>0</td>\n      <td>0</td>\n      <td>0</td>\n      <td>0</td>\n      <td>0</td>\n      <td>0</td>\n      <td>0</td>\n      <td>0</td>\n    </tr>\n    <tr>\n      <th>1</th>\n      <td>train_1</td>\n      <td>11.5006</td>\n      <td>-4.1473</td>\n      <td>13.8588</td>\n      <td>5.3890</td>\n      <td>12.3622</td>\n      <td>7.0433</td>\n      <td>5.6208</td>\n      <td>16.5338</td>\n      <td>3.1468</td>\n      <td>...</td>\n      <td>0</td>\n      <td>0</td>\n      <td>0</td>\n      <td>0</td>\n      <td>0</td>\n      <td>0</td>\n      <td>0</td>\n      <td>0</td>\n      <td>0</td>\n      <td>0</td>\n    </tr>\n    <tr>\n      <th>2</th>\n      <td>train_2</td>\n      <td>8.6093</td>\n      <td>-2.7457</td>\n      <td>12.0805</td>\n      <td>7.8928</td>\n      <td>10.5825</td>\n      <td>-9.0837</td>\n      <td>6.9427</td>\n      <td>14.6155</td>\n      <td>-4.9193</td>\n      <td>...</td>\n      <td>0</td>\n      <td>0</td>\n      <td>0</td>\n      <td>0</td>\n      <td>0</td>\n      <td>0</td>\n      <td>0</td>\n      <td>0</td>\n      <td>0</td>\n      <td>0</td>\n    </tr>\n    <tr>\n      <th>3</th>\n      <td>train_3</td>\n      <td>11.0604</td>\n      <td>-2.1518</td>\n      <td>8.9522</td>\n      <td>7.1957</td>\n      <td>12.5846</td>\n      <td>-1.8361</td>\n      <td>5.8428</td>\n      <td>14.9250</td>\n      <td>-5.8609</td>\n      <td>...</td>\n      <td>0</td>\n      <td>0</td>\n      <td>0</td>\n      <td>0</td>\n      <td>0</td>\n      <td>0</td>\n      <td>0</td>\n      <td>0</td>\n      <td>0</td>\n      <td>0</td>\n    </tr>\n    <tr>\n      <th>4</th>\n      <td>train_4</td>\n      <td>9.8369</td>\n      <td>-1.4834</td>\n      <td>12.8746</td>\n      <td>6.6375</td>\n      <td>12.2772</td>\n      <td>2.4486</td>\n      <td>5.9405</td>\n      <td>19.2514</td>\n      <td>6.2654</td>\n      <td>...</td>\n      <td>0</td>\n      <td>0</td>\n      <td>1</td>\n      <td>1</td>\n      <td>1</td>\n      <td>0</td>\n      <td>0</td>\n      <td>0</td>\n      <td>0</td>\n      <td>0</td>\n    </tr>\n    <tr>\n      <th>...</th>\n      <td>...</td>\n      <td>...</td>\n      <td>...</td>\n      <td>...</td>\n      <td>...</td>\n      <td>...</td>\n      <td>...</td>\n      <td>...</td>\n      <td>...</td>\n      <td>...</td>\n      <td>...</td>\n      <td>...</td>\n      <td>...</td>\n      <td>...</td>\n      <td>...</td>\n      <td>...</td>\n      <td>...</td>\n      <td>...</td>\n      <td>...</td>\n      <td>...</td>\n      <td>...</td>\n    </tr>\n    <tr>\n      <th>199995</th>\n      <td>train_199995</td>\n      <td>11.4880</td>\n      <td>-0.4956</td>\n      <td>8.2622</td>\n      <td>3.5142</td>\n      <td>10.3404</td>\n      <td>11.6081</td>\n      <td>5.6709</td>\n      <td>15.1516</td>\n      <td>-0.6209</td>\n      <td>...</td>\n      <td>0</td>\n      <td>1</td>\n      <td>0</td>\n      <td>0</td>\n      <td>0</td>\n      <td>0</td>\n      <td>1</td>\n      <td>0</td>\n      <td>0</td>\n      <td>0</td>\n    </tr>\n    <tr>\n      <th>199996</th>\n      <td>train_199996</td>\n      <td>4.9149</td>\n      <td>-2.4484</td>\n      <td>16.7052</td>\n      <td>6.6345</td>\n      <td>8.3096</td>\n      <td>-10.5628</td>\n      <td>5.8802</td>\n      <td>21.5940</td>\n      <td>-3.6797</td>\n      <td>...</td>\n      <td>0</td>\n      <td>0</td>\n      <td>0</td>\n      <td>1</td>\n      <td>0</td>\n      <td>0</td>\n      <td>0</td>\n      <td>0</td>\n      <td>0</td>\n      <td>0</td>\n    </tr>\n    <tr>\n      <th>199997</th>\n      <td>train_199997</td>\n      <td>11.2232</td>\n      <td>-5.0518</td>\n      <td>10.5127</td>\n      <td>5.6456</td>\n      <td>9.3410</td>\n      <td>-5.4086</td>\n      <td>4.5555</td>\n      <td>21.5571</td>\n      <td>0.1202</td>\n      <td>...</td>\n      <td>0</td>\n      <td>0</td>\n      <td>0</td>\n      <td>0</td>\n      <td>0</td>\n      <td>0</td>\n      <td>0</td>\n      <td>0</td>\n      <td>0</td>\n      <td>1</td>\n    </tr>\n    <tr>\n      <th>199998</th>\n      <td>train_199998</td>\n      <td>9.7148</td>\n      <td>-8.6098</td>\n      <td>13.6104</td>\n      <td>5.7930</td>\n      <td>12.5173</td>\n      <td>0.5339</td>\n      <td>6.0479</td>\n      <td>17.0152</td>\n      <td>-2.1926</td>\n      <td>...</td>\n      <td>0</td>\n      <td>0</td>\n      <td>0</td>\n      <td>0</td>\n      <td>0</td>\n      <td>0</td>\n      <td>0</td>\n      <td>0</td>\n      <td>0</td>\n      <td>1</td>\n    </tr>\n    <tr>\n      <th>199999</th>\n      <td>train_199999</td>\n      <td>10.8762</td>\n      <td>-5.7105</td>\n      <td>12.1183</td>\n      <td>8.0328</td>\n      <td>11.5577</td>\n      <td>0.3488</td>\n      <td>5.2839</td>\n      <td>15.2058</td>\n      <td>-0.4541</td>\n      <td>...</td>\n      <td>0</td>\n      <td>0</td>\n      <td>0</td>\n      <td>0</td>\n      <td>0</td>\n      <td>0</td>\n      <td>0</td>\n      <td>0</td>\n      <td>0</td>\n      <td>1</td>\n    </tr>\n  </tbody>\n</table>\n<p>200000 rows × 401 columns</p>\n</div>"
     },
     "execution_count": 25,
     "metadata": {},
     "output_type": "execute_result"
    }
   ],
   "source": [
    "x_train"
   ],
   "metadata": {
    "collapsed": false,
    "pycharm": {
     "name": "#%%\n"
    }
   }
  },
  {
   "cell_type": "markdown",
   "source": [
    "Resampling"
   ],
   "metadata": {
    "collapsed": false,
    "pycharm": {
     "name": "#%% md\n"
    }
   }
  },
  {
   "cell_type": "code",
   "execution_count": null,
   "outputs": [],
   "source": [
    "training_set=x_train[x_train.columns[1:]].to_numpy()\n",
    "training_labels=train['target'].to_numpy()\n",
    "\n",
    "\"\"\"since we are dealing with an imbalanced data set we are going to deal with it  by oversampling the underrepresented class\"\"\"\n",
    "\n",
    "from imblearn.over_sampling import RandomOverSampler\n",
    "rov=RandomOverSampler()\n",
    "x_resampled, y_resampled = rov.fit_resample(X=training_set, y=training_labels)\n",
    "\n",
    "print('_.-._.-._.-._.-._.-._.-._.-._.-._.-._.-._.-._')\n",
    "print('training set shape before resampling: '+str(training_set.shape))\n",
    "print('training set shape after: '+str(x_resampled.shape))\n",
    "\n",
    "\n",
    "print('_.-._.-._.-._.-._.-._.-._.-._.-._.-._.-._.-._')\n",
    "print('training labels shape before resampling: '+str(training_labels.shape))\n",
    "print('training labels shape after :'+str(y_resampled.shape))\n",
    "print('_.-._.-._.-._.-._.-._.-._.-._.-._.-._.-._.-._')"
   ],
   "metadata": {
    "collapsed": false,
    "pycharm": {
     "name": "#%%\n"
    }
   }
  },
  {
   "cell_type": "code",
   "execution_count": null,
   "outputs": [],
   "source": [
    "\n",
    "\n",
    "\n",
    "\"\"\"initializes a histogram gradient boost classifier \"\"\"\n",
    "def get_hgbc():\n",
    "    hgbc=sklearn.ensemble.HistGradientBoostingClassifier(\n",
    "\n",
    "        #parameters\n",
    "        max_iter=1000,\n",
    "        validation_fraction=0.02,\n",
    "        max_depth=None,\n",
    "        learning_rate=0.1,\n",
    "        loss='binary_crossentropy',\n",
    "        l2_regularization=0.01,\n",
    "        scoring='roc_auc',\n",
    "        max_leaf_nodes=40,\n",
    "        verbose=1\n",
    "\n",
    "    )\n",
    "    return hgbc\n",
    "\n",
    "\n",
    "\n",
    "\"\"\"Creates and fits model with the resampled data\"\"\"\n",
    "model1=get_hgbc()\n",
    "model1.fit(x_resampled, y_resampled, sample_weight=None)\n",
    "print('Training done!')\n",
    "\n",
    "\n",
    "\n",
    "\"\"\"Let's make predictions with the model\"\"\"\n",
    "#real_samples=x_test[:100000] #real samples\n",
    "#fake_samples=x_test[100000:] #fake samples\n",
    "super_test_set=x_test[x_test.columns[2:]].to_numpy()\n",
    "predictions=model1.predict(super_test_set)\n",
    "\n",
    "\n",
    "#TEST\n",
    "predictions_prob=model1.predict_proba(super_test_set)\n",
    "predictions_prob=pd.DataFrame(predictions_prob)\n",
    "######\n",
    "predictions\n",
    "\n",
    "\n",
    "\"\"\"Let's get ready for submission. Creating a DataFrame containing ID codes and targets\"\"\"\n",
    "submission_df=pd.DataFrame()\n",
    "submission_df['ID_code']=x_test['ID_code']\n",
    "\n",
    "#TEST\n",
    "#submission_df['target']=predictions THIS IS THE REAL DEAL\n",
    "submission_df['target']=predictions_prob[1].values #TEST\n",
    "########################\n",
    "\n",
    "\"\"\"we are also creating a dummy columns to help us sort our data by ID code\"\"\"\n",
    "submission_df['dummy_index']=submission_df['ID_code'].apply(lambda x: int(x[5:]))\n",
    "\n",
    "submission_df\n",
    "\n",
    "\"\"\"Let's sort our data and save it as a CSV file! We are done!\"\"\"\n",
    "juan_submission=submission_df.sort_values(by='dummy_index')\n",
    "juan_submission.drop(['dummy_index'],axis=1).to_csv('juan_submission_v2.csv', index=False)\n",
    "final_submission=pd.read_csv(filepath_or_buffer='juan_submission_v2.csv')"
   ],
   "metadata": {
    "collapsed": false,
    "pycharm": {
     "name": "#%%\n"
    }
   }
  }
 ],
 "metadata": {
  "kernelspec": {
   "display_name": "Python 3",
   "language": "python",
   "name": "python3"
  },
  "language_info": {
   "codemirror_mode": {
    "name": "ipython",
    "version": 2
   },
   "file_extension": ".py",
   "mimetype": "text/x-python",
   "name": "python",
   "nbconvert_exporter": "python",
   "pygments_lexer": "ipython2",
   "version": "2.7.6"
  }
 },
 "nbformat": 4,
 "nbformat_minor": 0
}