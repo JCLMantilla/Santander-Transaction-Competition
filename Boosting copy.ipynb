{
 "cells": [
  {
   "cell_type": "markdown",
   "source": [
    "## Imports"
   ],
   "metadata": {
    "collapsed": false,
    "pycharm": {
     "name": "#%% md\n"
    }
   }
  },
  {
   "cell_type": "code",
   "execution_count": 2,
   "outputs": [
    {
     "name": "stdout",
     "output_type": "stream",
     "text": [
      "Now using sklearn version 1.0.2\n",
      "Packages are Ready!!!\n"
     ]
    }
   ],
   "source": [
    "import numpy as np\n",
    "import pandas as pd\n",
    "import sklearn as sklearn\n",
    "from sklearn.ensemble import HistGradientBoostingClassifier\n",
    "print('Now using sklearn version '+sklearn.__version__)\n",
    "print('Packages are Ready!!!')"
   ],
   "metadata": {
    "collapsed": false,
    "pycharm": {
     "name": "#%%\n"
    }
   }
  },
  {
   "cell_type": "markdown",
   "source": [
    "## Loading data"
   ],
   "metadata": {
    "collapsed": false,
    "pycharm": {
     "name": "#%% md\n"
    }
   }
  },
  {
   "cell_type": "code",
   "execution_count": 3,
   "outputs": [
    {
     "name": "stdout",
     "output_type": "stream",
     "text": [
      "Loading data...\n",
      "Data is ready!!!!\n"
     ]
    }
   ],
   "source": [
    "print('Loading data...')\n",
    "\"\"\"we are also importing training and testing data from competition because they might become handy\"\"\"\n",
    "\n",
    "test=pd.read_csv('/Users/juansmacbook/PycharmProjects/Santander_Transaction/Santander-Transaction-Competition/test.csv')\n",
    "train=pd.read_csv('/Users/juansmacbook/PycharmProjects/Santander_Transaction/Santander-Transaction-Competition/train.csv')\n",
    "\n",
    "\"\"\"reading data\"\"\"\n",
    "\n",
    "x_test=pd.read_csv('/Users/juansmacbook/PycharmProjects/Santander_Transaction/Santander-Transaction-Competition/x_test.csv')\n",
    "x_train=pd.read_csv('/Users/juansmacbook/PycharmProjects/Santander_Transaction/Santander-Transaction-Competition/x_train.csv')\n",
    "\n",
    "print('Data is ready!!!!')\n"
   ],
   "metadata": {
    "collapsed": false,
    "pycharm": {
     "name": "#%%\n"
    }
   }
  },
  {
   "cell_type": "code",
   "execution_count": 27,
   "outputs": [
    {
     "data": {
      "text/plain": "             ID_code  target    var_0   var_1    var_2   var_3    var_4  \\\n0            train_0       0   8.9255 -6.7863  11.9081  5.0930  11.4607   \n1            train_1       0  11.5006 -4.1473  13.8588  5.3890  12.3622   \n2            train_2       0   8.6093 -2.7457  12.0805  7.8928  10.5825   \n3            train_3       0  11.0604 -2.1518   8.9522  7.1957  12.5846   \n4            train_4       0   9.8369 -1.4834  12.8746  6.6375  12.2772   \n...              ...     ...      ...     ...      ...     ...      ...   \n199995  train_199995       0  11.4880 -0.4956   8.2622  3.5142  10.3404   \n199996  train_199996       0   4.9149 -2.4484  16.7052  6.6345   8.3096   \n199997  train_199997       0  11.2232 -5.0518  10.5127  5.6456   9.3410   \n199998  train_199998       0   9.7148 -8.6098  13.6104  5.7930  12.5173   \n199999  train_199999       0  10.8762 -5.7105  12.1183  8.0328  11.5577   \n\n          var_5   var_6    var_7  ...  var_190  var_191  var_192  var_193  \\\n0       -9.2834  5.1187  18.6266  ...   4.4354   3.9642   3.1364   1.6910   \n1        7.0433  5.6208  16.5338  ...   7.6421   7.7214   2.5837  10.9516   \n2       -9.0837  6.9427  14.6155  ...   2.9057   9.7905   1.6704   1.6858   \n3       -1.8361  5.8428  14.9250  ...   4.4666   4.7433   0.7178   1.4214   \n4        2.4486  5.9405  19.2514  ...  -1.4905   9.5214  -0.1508   9.1942   \n...         ...     ...      ...  ...      ...      ...      ...      ...   \n199995  11.6081  5.6709  15.1516  ...   6.1415  13.2305   3.9901   0.9388   \n199996 -10.5628  5.8802  21.5940  ...   4.9611   4.6549   0.6998   1.8341   \n199997  -5.4086  4.5555  21.5571  ...   4.0651   5.4414   3.1032   4.8793   \n199998   0.5339  6.0479  17.0152  ...   2.6840   8.6587   2.7337  11.1178   \n199999   0.3488  5.2839  15.2058  ...   8.9842   1.6893   0.1276   0.3766   \n\n        var_194  var_195  var_196  var_197  var_198  var_199  \n0       18.5227  -2.3978   7.8784   8.5635  12.7803  -1.0914  \n1       15.4305   2.0339   8.1267   8.7889  18.3560   1.9518  \n2       21.6042   3.1417  -6.5213   8.2675  14.7222   0.3965  \n3       23.0347  -1.2706  -2.9275  10.2922  17.9697  -8.9996  \n4       13.2876  -1.5121   3.9267   9.5031  17.9974  -8.8104  \n...         ...      ...      ...      ...      ...      ...  \n199995  18.0249  -1.7939   2.1661   8.5326  16.6660 -17.8661  \n199996  22.2717   1.7337  -2.1651   6.7419  15.9054   0.3388  \n199997  23.5311  -1.5736   1.2832   8.7155  13.8329   4.1995  \n199998  20.4158  -0.0786   6.7980  10.0342  15.5289 -13.9001  \n199999  15.2101  -2.4907  -2.2342   8.1857  12.1284   0.1385  \n\n[200000 rows x 202 columns]",
      "text/html": "<div>\n<style scoped>\n    .dataframe tbody tr th:only-of-type {\n        vertical-align: middle;\n    }\n\n    .dataframe tbody tr th {\n        vertical-align: top;\n    }\n\n    .dataframe thead th {\n        text-align: right;\n    }\n</style>\n<table border=\"1\" class=\"dataframe\">\n  <thead>\n    <tr style=\"text-align: right;\">\n      <th></th>\n      <th>ID_code</th>\n      <th>target</th>\n      <th>var_0</th>\n      <th>var_1</th>\n      <th>var_2</th>\n      <th>var_3</th>\n      <th>var_4</th>\n      <th>var_5</th>\n      <th>var_6</th>\n      <th>var_7</th>\n      <th>...</th>\n      <th>var_190</th>\n      <th>var_191</th>\n      <th>var_192</th>\n      <th>var_193</th>\n      <th>var_194</th>\n      <th>var_195</th>\n      <th>var_196</th>\n      <th>var_197</th>\n      <th>var_198</th>\n      <th>var_199</th>\n    </tr>\n  </thead>\n  <tbody>\n    <tr>\n      <th>0</th>\n      <td>train_0</td>\n      <td>0</td>\n      <td>8.9255</td>\n      <td>-6.7863</td>\n      <td>11.9081</td>\n      <td>5.0930</td>\n      <td>11.4607</td>\n      <td>-9.2834</td>\n      <td>5.1187</td>\n      <td>18.6266</td>\n      <td>...</td>\n      <td>4.4354</td>\n      <td>3.9642</td>\n      <td>3.1364</td>\n      <td>1.6910</td>\n      <td>18.5227</td>\n      <td>-2.3978</td>\n      <td>7.8784</td>\n      <td>8.5635</td>\n      <td>12.7803</td>\n      <td>-1.0914</td>\n    </tr>\n    <tr>\n      <th>1</th>\n      <td>train_1</td>\n      <td>0</td>\n      <td>11.5006</td>\n      <td>-4.1473</td>\n      <td>13.8588</td>\n      <td>5.3890</td>\n      <td>12.3622</td>\n      <td>7.0433</td>\n      <td>5.6208</td>\n      <td>16.5338</td>\n      <td>...</td>\n      <td>7.6421</td>\n      <td>7.7214</td>\n      <td>2.5837</td>\n      <td>10.9516</td>\n      <td>15.4305</td>\n      <td>2.0339</td>\n      <td>8.1267</td>\n      <td>8.7889</td>\n      <td>18.3560</td>\n      <td>1.9518</td>\n    </tr>\n    <tr>\n      <th>2</th>\n      <td>train_2</td>\n      <td>0</td>\n      <td>8.6093</td>\n      <td>-2.7457</td>\n      <td>12.0805</td>\n      <td>7.8928</td>\n      <td>10.5825</td>\n      <td>-9.0837</td>\n      <td>6.9427</td>\n      <td>14.6155</td>\n      <td>...</td>\n      <td>2.9057</td>\n      <td>9.7905</td>\n      <td>1.6704</td>\n      <td>1.6858</td>\n      <td>21.6042</td>\n      <td>3.1417</td>\n      <td>-6.5213</td>\n      <td>8.2675</td>\n      <td>14.7222</td>\n      <td>0.3965</td>\n    </tr>\n    <tr>\n      <th>3</th>\n      <td>train_3</td>\n      <td>0</td>\n      <td>11.0604</td>\n      <td>-2.1518</td>\n      <td>8.9522</td>\n      <td>7.1957</td>\n      <td>12.5846</td>\n      <td>-1.8361</td>\n      <td>5.8428</td>\n      <td>14.9250</td>\n      <td>...</td>\n      <td>4.4666</td>\n      <td>4.7433</td>\n      <td>0.7178</td>\n      <td>1.4214</td>\n      <td>23.0347</td>\n      <td>-1.2706</td>\n      <td>-2.9275</td>\n      <td>10.2922</td>\n      <td>17.9697</td>\n      <td>-8.9996</td>\n    </tr>\n    <tr>\n      <th>4</th>\n      <td>train_4</td>\n      <td>0</td>\n      <td>9.8369</td>\n      <td>-1.4834</td>\n      <td>12.8746</td>\n      <td>6.6375</td>\n      <td>12.2772</td>\n      <td>2.4486</td>\n      <td>5.9405</td>\n      <td>19.2514</td>\n      <td>...</td>\n      <td>-1.4905</td>\n      <td>9.5214</td>\n      <td>-0.1508</td>\n      <td>9.1942</td>\n      <td>13.2876</td>\n      <td>-1.5121</td>\n      <td>3.9267</td>\n      <td>9.5031</td>\n      <td>17.9974</td>\n      <td>-8.8104</td>\n    </tr>\n    <tr>\n      <th>...</th>\n      <td>...</td>\n      <td>...</td>\n      <td>...</td>\n      <td>...</td>\n      <td>...</td>\n      <td>...</td>\n      <td>...</td>\n      <td>...</td>\n      <td>...</td>\n      <td>...</td>\n      <td>...</td>\n      <td>...</td>\n      <td>...</td>\n      <td>...</td>\n      <td>...</td>\n      <td>...</td>\n      <td>...</td>\n      <td>...</td>\n      <td>...</td>\n      <td>...</td>\n      <td>...</td>\n    </tr>\n    <tr>\n      <th>199995</th>\n      <td>train_199995</td>\n      <td>0</td>\n      <td>11.4880</td>\n      <td>-0.4956</td>\n      <td>8.2622</td>\n      <td>3.5142</td>\n      <td>10.3404</td>\n      <td>11.6081</td>\n      <td>5.6709</td>\n      <td>15.1516</td>\n      <td>...</td>\n      <td>6.1415</td>\n      <td>13.2305</td>\n      <td>3.9901</td>\n      <td>0.9388</td>\n      <td>18.0249</td>\n      <td>-1.7939</td>\n      <td>2.1661</td>\n      <td>8.5326</td>\n      <td>16.6660</td>\n      <td>-17.8661</td>\n    </tr>\n    <tr>\n      <th>199996</th>\n      <td>train_199996</td>\n      <td>0</td>\n      <td>4.9149</td>\n      <td>-2.4484</td>\n      <td>16.7052</td>\n      <td>6.6345</td>\n      <td>8.3096</td>\n      <td>-10.5628</td>\n      <td>5.8802</td>\n      <td>21.5940</td>\n      <td>...</td>\n      <td>4.9611</td>\n      <td>4.6549</td>\n      <td>0.6998</td>\n      <td>1.8341</td>\n      <td>22.2717</td>\n      <td>1.7337</td>\n      <td>-2.1651</td>\n      <td>6.7419</td>\n      <td>15.9054</td>\n      <td>0.3388</td>\n    </tr>\n    <tr>\n      <th>199997</th>\n      <td>train_199997</td>\n      <td>0</td>\n      <td>11.2232</td>\n      <td>-5.0518</td>\n      <td>10.5127</td>\n      <td>5.6456</td>\n      <td>9.3410</td>\n      <td>-5.4086</td>\n      <td>4.5555</td>\n      <td>21.5571</td>\n      <td>...</td>\n      <td>4.0651</td>\n      <td>5.4414</td>\n      <td>3.1032</td>\n      <td>4.8793</td>\n      <td>23.5311</td>\n      <td>-1.5736</td>\n      <td>1.2832</td>\n      <td>8.7155</td>\n      <td>13.8329</td>\n      <td>4.1995</td>\n    </tr>\n    <tr>\n      <th>199998</th>\n      <td>train_199998</td>\n      <td>0</td>\n      <td>9.7148</td>\n      <td>-8.6098</td>\n      <td>13.6104</td>\n      <td>5.7930</td>\n      <td>12.5173</td>\n      <td>0.5339</td>\n      <td>6.0479</td>\n      <td>17.0152</td>\n      <td>...</td>\n      <td>2.6840</td>\n      <td>8.6587</td>\n      <td>2.7337</td>\n      <td>11.1178</td>\n      <td>20.4158</td>\n      <td>-0.0786</td>\n      <td>6.7980</td>\n      <td>10.0342</td>\n      <td>15.5289</td>\n      <td>-13.9001</td>\n    </tr>\n    <tr>\n      <th>199999</th>\n      <td>train_199999</td>\n      <td>0</td>\n      <td>10.8762</td>\n      <td>-5.7105</td>\n      <td>12.1183</td>\n      <td>8.0328</td>\n      <td>11.5577</td>\n      <td>0.3488</td>\n      <td>5.2839</td>\n      <td>15.2058</td>\n      <td>...</td>\n      <td>8.9842</td>\n      <td>1.6893</td>\n      <td>0.1276</td>\n      <td>0.3766</td>\n      <td>15.2101</td>\n      <td>-2.4907</td>\n      <td>-2.2342</td>\n      <td>8.1857</td>\n      <td>12.1284</td>\n      <td>0.1385</td>\n    </tr>\n  </tbody>\n</table>\n<p>200000 rows × 202 columns</p>\n</div>"
     },
     "execution_count": 27,
     "metadata": {},
     "output_type": "execute_result"
    }
   ],
   "source": [
    "train"
   ],
   "metadata": {
    "collapsed": false,
    "pycharm": {
     "name": "#%%\n"
    }
   }
  },
  {
   "cell_type": "markdown",
   "source": [
    "## Resampling\n",
    "We are going to resample the missrepresented class in the training dataset, in this way we are going to balance out the classes."
   ],
   "metadata": {
    "collapsed": false,
    "pycharm": {
     "name": "#%% md\n"
    }
   }
  },
  {
   "cell_type": "code",
   "execution_count": 4,
   "outputs": [],
   "source": [
    "training_set=x_train[x_train.columns[1:]].to_numpy()\n",
    "training_labels=train['target'].to_numpy()\n"
   ],
   "metadata": {
    "collapsed": false,
    "pycharm": {
     "name": "#%%\n"
    }
   }
  },
  {
   "cell_type": "code",
   "execution_count": 5,
   "outputs": [
    {
     "name": "stdout",
     "output_type": "stream",
     "text": [
      "_.-._.-._.-._.-._.-._.-._.-._.-._.-._.-._.-._\n",
      "training set shape before resampling: (200000, 400)\n",
      "training set shape after: (359804, 400)\n",
      "_.-._.-._.-._.-._.-._.-._.-._.-._.-._.-._.-._\n",
      "training labels shape before resampling: (200000,)\n",
      "training labels shape after :(359804,)\n",
      "_.-._.-._.-._.-._.-._.-._.-._.-._.-._.-._.-._\n"
     ]
    }
   ],
   "source": [
    "\n",
    "\"\"\"since we are dealing with an imbalanced data set we are going to deal with it  by oversampling the underrepresented class\"\"\"\n",
    "\n",
    "from imblearn.over_sampling import RandomOverSampler\n",
    "rov=RandomOverSampler()\n",
    "x_resampled, y_resampled = rov.fit_resample(X=training_set, y=training_labels)\n",
    "\n",
    "print('_.-._.-._.-._.-._.-._.-._.-._.-._.-._.-._.-._')\n",
    "print('training set shape before resampling: '+str(training_set.shape))\n",
    "print('training set shape after: '+str(x_resampled.shape))\n",
    "\n",
    "\n",
    "print('_.-._.-._.-._.-._.-._.-._.-._.-._.-._.-._.-._')\n",
    "print('training labels shape before resampling: '+str(training_labels.shape))\n",
    "print('training labels shape after :'+str(y_resampled.shape))\n",
    "print('_.-._.-._.-._.-._.-._.-._.-._.-._.-._.-._.-._')\n",
    "\n",
    "\"\"\" We can now see the number example for each class\"\"\"\n",
    "pd.Series(name='Number of examples', data=y_resampled).value_counts()"
   ],
   "metadata": {
    "collapsed": false,
    "pycharm": {
     "name": "#%%\n"
    }
   }
  },
  {
   "cell_type": "code",
   "execution_count": 12,
   "outputs": [],
   "source": [
    "\"\"\"initializes an instance of a gradient boosting classifier \"\"\"\n",
    "def get_hgbc():\n",
    "    hgbc=sklearn.ensemble.HistGradientBoostingClassifier(\n",
    "        #Hyper parameters\n",
    "        max_iter=20, #Trees to be build\n",
    "        early_stopping=True,\n",
    "        #validation_fraction=0.02,\n",
    "        learning_rate=0.1,\n",
    "        warm_start=True,\n",
    "        #Metrics and over-fitting\n",
    "        loss='binary_crossentropy',\n",
    "        l2_regularization=0.01,\n",
    "        scoring='roc_auc',\n",
    "        # Tree parameters\n",
    "        min_samples_leaf=120,\n",
    "        max_leaf_nodes=13,\n",
    "        max_depth=None,\n",
    "        #ETC\n",
    "        verbose=0\n",
    "    )\n",
    "    return hgbc\n",
    "model=get_hgbc()"
   ],
   "metadata": {
    "collapsed": false,
    "pycharm": {
     "name": "#%%\n"
    }
   }
  },
  {
   "cell_type": "markdown",
   "source": [
    "## CROSS VALIDATION SCHEME TRAINING"
   ],
   "metadata": {
    "collapsed": false,
    "pycharm": {
     "name": "#%% md\n"
    }
   }
  },
  {
   "cell_type": "code",
   "execution_count": 13,
   "outputs": [],
   "source": [
    "\n",
    "\"\"\" TEST DO NOT TOUCH\"\"\"\n",
    "\n",
    "from sklearn.model_selection import cross_val_score\n",
    "val_scores=cross_val_score(model, x_resampled, y_resampled, cv=5, scoring='roc_auc')\n"
   ],
   "metadata": {
    "collapsed": false,
    "pycharm": {
     "name": "#%%\n"
    }
   }
  },
  {
   "cell_type": "code",
   "execution_count": 14,
   "outputs": [
    {
     "data": {
      "text/plain": "array([0.80078877, 0.80131791, 0.79696717, 0.79688244, 0.79710308])"
     },
     "execution_count": 14,
     "metadata": {},
     "output_type": "execute_result"
    }
   ],
   "source": [
    "val_scores"
   ],
   "metadata": {
    "collapsed": false,
    "pycharm": {
     "name": "#%%\n"
    }
   }
  },
  {
   "cell_type": "markdown",
   "source": [],
   "metadata": {
    "collapsed": false,
    "pycharm": {
     "name": "#%% md\n"
    }
   }
  },
  {
   "cell_type": "code",
   "execution_count": 15,
   "outputs": [
    {
     "name": "stdout",
     "output_type": "stream",
     "text": [
      "Training done!\n"
     ]
    }
   ],
   "source": [
    "\"\"\"Creates and fits model with the resampled data\"\"\"\n",
    "model.fit(x_resampled, y_resampled, sample_weight=None)\n",
    "print('Training done!')\n"
   ],
   "metadata": {
    "collapsed": false,
    "pycharm": {
     "name": "#%%\n"
    }
   }
  },
  {
   "cell_type": "markdown",
   "source": [
    "## Getting predictions"
   ],
   "metadata": {
    "collapsed": false,
    "pycharm": {
     "name": "#%% md\n"
    }
   }
  },
  {
   "cell_type": "code",
   "execution_count": 17,
   "outputs": [
    {
     "data": {
      "text/plain": "array([[ 8.5374, -1.3222, 12.022 , ...,  0.    ,  0.    ,  1.    ],\n       [17.3035, -2.4212, 13.3989, ...,  0.    ,  1.    ,  0.    ],\n       [10.6137, -2.1898,  8.909 , ...,  0.    ,  0.    ,  1.    ],\n       ...,\n       [ 8.2964, -2.3119, 11.2139, ...,  0.    ,  0.    ,  0.    ],\n       [11.636 ,  2.2769, 11.2074, ...,  0.    ,  0.    ,  0.    ],\n       [13.5745, -0.5134, 13.6584, ...,  0.    ,  0.    ,  0.    ]])"
     },
     "execution_count": 17,
     "metadata": {},
     "output_type": "execute_result"
    }
   ],
   "source": [
    "\"\"\"Let's make predictions with the model\"\"\"\n",
    "super_test_set=x_test[x_test.columns[1:]].to_numpy()\n",
    "predictions=model.predict(super_test_set)\n",
    "#TEST\n",
    "predictions_prob=model.predict_proba(super_test_set)\n",
    "predictions_prob=pd.DataFrame(predictions_prob)\n",
    "######\n",
    "predictions_prob\n",
    "super_test_set"
   ],
   "metadata": {
    "collapsed": false,
    "pycharm": {
     "name": "#%%\n"
    }
   }
  },
  {
   "cell_type": "code",
   "execution_count": 47,
   "outputs": [],
   "source": [],
   "metadata": {
    "collapsed": false,
    "pycharm": {
     "name": "#%%\n"
    }
   }
  },
  {
   "cell_type": "code",
   "execution_count": 48,
   "outputs": [],
   "source": [
    "\"\"\" We create a fucntion that uses the trained model to save a CVS file ready for sumbmission\"\"\"\n",
    "def get_sumbmission(model):\n",
    "\n",
    "    return 0\n",
    "\n",
    "\n",
    "\"\"\"Let's get ready for submission. Creating a DataFrame containing ID codes and targets\"\"\"\n",
    "submission_df=pd.DataFrame()\n",
    "submission_df['ID_code']=x_test['ID_code']\n",
    "\n",
    "#TEST\n",
    "#submission_df['target']=predictions THIS IS THE REAL DEAL\n",
    "submission_df['target']=predictions_prob[1].values #TEST\n",
    "########################\n",
    "\n",
    "\"\"\"we are also creating a dummy columns to help us sort our data by ID code\"\"\"\n",
    "submission_df['dummy_index']=submission_df['ID_code'].apply(lambda x: int(x[5:]))\n",
    "\n",
    "submission_df\n",
    "\n",
    "\"\"\"Let's sort our data and save it as a CSV file! We are done!\"\"\"\n",
    "juan_submission=submission_df.sort_values(by='dummy_index')\n",
    "juan_submission.drop(['dummy_index'],axis=1).to_csv('juan_submission.csv', index=False)\n",
    "final_submission=pd.read_csv(filepath_or_buffer='juan_submission.csv')"
   ],
   "metadata": {
    "collapsed": false,
    "pycharm": {
     "name": "#%%\n"
    }
   }
  },
  {
   "cell_type": "code",
   "execution_count": 52,
   "outputs": [
    {
     "name": "stdout",
     "output_type": "stream",
     "text": [
      "Boosting copy.ipynb       juan_submission.csv       x_test.csv\r\n",
      "DataGeneration copy.ipynb test.csv                  x_train.csv\r\n",
      "README.md                 train.csv\r\n"
     ]
    }
   ],
   "source": [
    "!ls"
   ],
   "metadata": {
    "collapsed": false,
    "pycharm": {
     "name": "#%%\n"
    }
   }
  },
  {
   "cell_type": "code",
   "execution_count": 51,
   "outputs": [
    {
     "data": {
      "text/plain": "            ID_code    target\n0            test_0  0.503196\n1            test_1  0.791701\n2            test_2  0.769796\n3            test_3  0.487299\n4            test_4  0.378554\n...             ...       ...\n199995  test_199995  0.320715\n199996  test_199996  0.065481\n199997  test_199997  0.104253\n199998  test_199998  0.472951\n199999  test_199999  0.378694\n\n[200000 rows x 2 columns]",
      "text/html": "<div>\n<style scoped>\n    .dataframe tbody tr th:only-of-type {\n        vertical-align: middle;\n    }\n\n    .dataframe tbody tr th {\n        vertical-align: top;\n    }\n\n    .dataframe thead th {\n        text-align: right;\n    }\n</style>\n<table border=\"1\" class=\"dataframe\">\n  <thead>\n    <tr style=\"text-align: right;\">\n      <th></th>\n      <th>ID_code</th>\n      <th>target</th>\n    </tr>\n  </thead>\n  <tbody>\n    <tr>\n      <th>0</th>\n      <td>test_0</td>\n      <td>0.503196</td>\n    </tr>\n    <tr>\n      <th>1</th>\n      <td>test_1</td>\n      <td>0.791701</td>\n    </tr>\n    <tr>\n      <th>2</th>\n      <td>test_2</td>\n      <td>0.769796</td>\n    </tr>\n    <tr>\n      <th>3</th>\n      <td>test_3</td>\n      <td>0.487299</td>\n    </tr>\n    <tr>\n      <th>4</th>\n      <td>test_4</td>\n      <td>0.378554</td>\n    </tr>\n    <tr>\n      <th>...</th>\n      <td>...</td>\n      <td>...</td>\n    </tr>\n    <tr>\n      <th>199995</th>\n      <td>test_199995</td>\n      <td>0.320715</td>\n    </tr>\n    <tr>\n      <th>199996</th>\n      <td>test_199996</td>\n      <td>0.065481</td>\n    </tr>\n    <tr>\n      <th>199997</th>\n      <td>test_199997</td>\n      <td>0.104253</td>\n    </tr>\n    <tr>\n      <th>199998</th>\n      <td>test_199998</td>\n      <td>0.472951</td>\n    </tr>\n    <tr>\n      <th>199999</th>\n      <td>test_199999</td>\n      <td>0.378694</td>\n    </tr>\n  </tbody>\n</table>\n<p>200000 rows × 2 columns</p>\n</div>"
     },
     "execution_count": 51,
     "metadata": {},
     "output_type": "execute_result"
    }
   ],
   "source": [
    "final_submission"
   ],
   "metadata": {
    "collapsed": false,
    "pycharm": {
     "name": "#%%\n"
    }
   }
  },
  {
   "cell_type": "code",
   "execution_count": 2,
   "outputs": [
    {
     "name": "stdout",
     "output_type": "stream",
     "text": [
      "Boosting copy.ipynb       juan_submission.csv       x_test.csv\r\n",
      "DataGeneration copy.ipynb test.csv                  x_train.csv\r\n",
      "README.md                 train.csv\r\n"
     ]
    }
   ],
   "source": [],
   "metadata": {
    "collapsed": false,
    "pycharm": {
     "name": "#%%\n"
    }
   }
  },
  {
   "cell_type": "code",
   "execution_count": 52,
   "outputs": [],
   "source": [],
   "metadata": {
    "collapsed": false,
    "pycharm": {
     "name": "#%%\n"
    }
   }
  }
 ],
 "metadata": {
  "kernelspec": {
   "display_name": "Python 3",
   "language": "python",
   "name": "python3"
  },
  "language_info": {
   "codemirror_mode": {
    "name": "ipython",
    "version": 2
   },
   "file_extension": ".py",
   "mimetype": "text/x-python",
   "name": "python",
   "nbconvert_exporter": "python",
   "pygments_lexer": "ipython2",
   "version": "2.7.6"
  }
 },
 "nbformat": 4,
 "nbformat_minor": 0
}