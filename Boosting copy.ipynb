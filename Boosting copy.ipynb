{
 "cells": [
  {
   "cell_type": "markdown",
   "source": [
    "## Imports"
   ],
   "metadata": {
    "collapsed": false,
    "pycharm": {
     "name": "#%% md\n"
    }
   }
  },
  {
   "cell_type": "code",
   "execution_count": 49,
   "outputs": [
    {
     "name": "stdout",
     "output_type": "stream",
     "text": [
      "Now using sklearn version 1.0.2\n",
      "Packages are Ready!!!\n"
     ]
    }
   ],
   "source": [
    "import numpy as np\n",
    "import pandas as pd\n",
    "import sklearn as sklearn\n",
    "from sklearn.ensemble import HistGradientBoostingClassifier\n",
    "print('Now using sklearn version '+sklearn.__version__)\n",
    "print('Packages are Ready!!!')"
   ],
   "metadata": {
    "collapsed": false,
    "pycharm": {
     "name": "#%%\n"
    }
   }
  },
  {
   "cell_type": "markdown",
   "source": [
    "## Loading data"
   ],
   "metadata": {
    "collapsed": false,
    "pycharm": {
     "name": "#%% md\n"
    }
   }
  },
  {
   "cell_type": "code",
   "execution_count": 50,
   "outputs": [],
   "source": [
    "def load_augmented_data(): #Loads the augmented dataset\n",
    "    train_augmented=pd.read_csv(filepath_or_buffer='/Users/juansmacbook/PycharmProjects/Santander_Transaction/Santander-Transaction-Competition/train_augmented.csv')\n",
    "    test_augmented=pd.read_csv(filepath_or_buffer='/Users/juansmacbook/PycharmProjects/Santander_Transaction/Santander-Transaction-Competition/test_augmented.csv')\n",
    "    print('Augmented datasets are ready')\n",
    "    return train_augmented , test_augmented\n",
    "\n",
    "def load_original_data(): # Loads the original datasets of the competition\n",
    "    test=pd.read_csv('/Users/juansmacbook/PycharmProjects/Santander_Transaction/Santander-Transaction-Competition/test.csv')\n",
    "    train=pd.read_csv('/Users/juansmacbook/PycharmProjects/Santander_Transaction/Santander-Transaction-Competition/train.csv')\n",
    "    print('Original datasets are ready')\n",
    "    return train, test"
   ],
   "metadata": {
    "collapsed": false,
    "pycharm": {
     "name": "#%%\n"
    }
   }
  },
  {
   "cell_type": "code",
   "execution_count": 51,
   "outputs": [
    {
     "name": "stdout",
     "output_type": "stream",
     "text": [
      "Augmented datasets are ready\n"
     ]
    }
   ],
   "source": [
    "train_augmented , test_augmented = load_augmented_data()"
   ],
   "metadata": {
    "collapsed": false,
    "pycharm": {
     "name": "#%%\n"
    }
   }
  },
  {
   "cell_type": "code",
   "execution_count": null,
   "outputs": [],
   "source": [],
   "metadata": {
    "collapsed": false,
    "pycharm": {
     "name": "#%%\n"
    }
   }
  },
  {
   "cell_type": "markdown",
   "source": [
    "## Resampling\n",
    "We are going to resample the missrepresented class in the training dataset, in this way we are going to balance out the classes."
   ],
   "metadata": {
    "collapsed": false,
    "pycharm": {
     "name": "#%% md\n"
    }
   }
  },
  {
   "cell_type": "code",
   "execution_count": 4,
   "outputs": [],
   "source": [
    "training_set=x_train[x_train.columns[1:]].to_numpy()\n",
    "training_labels=train['target'].to_numpy()\n"
   ],
   "metadata": {
    "collapsed": false,
    "pycharm": {
     "name": "#%%\n"
    }
   }
  },
  {
   "cell_type": "code",
   "execution_count": 5,
   "outputs": [
    {
     "name": "stdout",
     "output_type": "stream",
     "text": [
      "_.-._.-._.-._.-._.-._.-._.-._.-._.-._.-._.-._\n",
      "training set shape before resampling: (200000, 400)\n",
      "training set shape after: (359804, 400)\n",
      "_.-._.-._.-._.-._.-._.-._.-._.-._.-._.-._.-._\n",
      "training labels shape before resampling: (200000,)\n",
      "training labels shape after :(359804,)\n",
      "_.-._.-._.-._.-._.-._.-._.-._.-._.-._.-._.-._\n"
     ]
    }
   ],
   "source": [
    "\n",
    "\"\"\"since we are dealing with an imbalanced data set we are going to deal with it  by oversampling the underrepresented class\"\"\"\n",
    "\n",
    "from imblearn.over_sampling import RandomOverSampler\n",
    "rov=RandomOverSampler()\n",
    "x_resampled, y_resampled = rov.fit_resample(X=training_set, y=training_labels)\n",
    "\n",
    "print('_.-._.-._.-._.-._.-._.-._.-._.-._.-._.-._.-._')\n",
    "print('training set shape before resampling: '+str(training_set.shape))\n",
    "print('training set shape after: '+str(x_resampled.shape))\n",
    "\n",
    "\n",
    "print('_.-._.-._.-._.-._.-._.-._.-._.-._.-._.-._.-._')\n",
    "print('training labels shape before resampling: '+str(training_labels.shape))\n",
    "print('training labels shape after :'+str(y_resampled.shape))\n",
    "print('_.-._.-._.-._.-._.-._.-._.-._.-._.-._.-._.-._')\n",
    "\n",
    "\"\"\" We can now see the number example for each class\"\"\"\n",
    "pd.Series(name='Number of examples', data=y_resampled).value_counts()"
   ],
   "metadata": {
    "collapsed": false,
    "pycharm": {
     "name": "#%%\n"
    }
   }
  },
  {
   "cell_type": "code",
   "execution_count": 12,
   "outputs": [],
   "source": [
    "\"\"\"initializes an instance of a gradient boosting classifier \"\"\"\n",
    "def get_hgbc():\n",
    "    hgbc=sklearn.ensemble.HistGradientBoostingClassifier(\n",
    "        #Hyper parameters\n",
    "        max_iter=20, #Trees to be build\n",
    "        early_stopping=True,\n",
    "        #validation_fraction=0.02,\n",
    "        learning_rate=0.1,\n",
    "        warm_start=True,\n",
    "        #Metrics and over-fitting\n",
    "        loss='binary_crossentropy',\n",
    "        l2_regularization=0.01,\n",
    "        scoring='roc_auc',\n",
    "        # Tree parameters\n",
    "        min_samples_leaf=120,\n",
    "        max_leaf_nodes=13,\n",
    "        max_depth=None,\n",
    "        #ETC\n",
    "        verbose=0\n",
    "    )\n",
    "    return hgbc\n",
    "model=get_hgbc()"
   ],
   "metadata": {
    "collapsed": false,
    "pycharm": {
     "name": "#%%\n"
    }
   }
  },
  {
   "cell_type": "markdown",
   "source": [
    "## CROSS VALIDATION SCHEME TRAINING"
   ],
   "metadata": {
    "collapsed": false,
    "pycharm": {
     "name": "#%% md\n"
    }
   }
  },
  {
   "cell_type": "code",
   "execution_count": 13,
   "outputs": [],
   "source": [
    "\n",
    "\"\"\" TEST DO NOT TOUCH\"\"\"\n",
    "\n",
    "from sklearn.model_selection import cross_val_score\n",
    "val_scores=cross_val_score(model, x_resampled, y_resampled, cv=5, scoring='roc_auc')\n"
   ],
   "metadata": {
    "collapsed": false,
    "pycharm": {
     "name": "#%%\n"
    }
   }
  },
  {
   "cell_type": "code",
   "execution_count": 14,
   "outputs": [
    {
     "data": {
      "text/plain": "array([0.80078877, 0.80131791, 0.79696717, 0.79688244, 0.79710308])"
     },
     "execution_count": 14,
     "metadata": {},
     "output_type": "execute_result"
    }
   ],
   "source": [
    "val_scores"
   ],
   "metadata": {
    "collapsed": false,
    "pycharm": {
     "name": "#%%\n"
    }
   }
  },
  {
   "cell_type": "markdown",
   "source": [],
   "metadata": {
    "collapsed": false,
    "pycharm": {
     "name": "#%% md\n"
    }
   }
  },
  {
   "cell_type": "code",
   "execution_count": 15,
   "outputs": [
    {
     "name": "stdout",
     "output_type": "stream",
     "text": [
      "Training done!\n"
     ]
    }
   ],
   "source": [
    "\"\"\"Creates and fits model with the resampled data\"\"\"\n",
    "model.fit(x_resampled, y_resampled, sample_weight=None)\n",
    "print('Training done!')\n"
   ],
   "metadata": {
    "collapsed": false,
    "pycharm": {
     "name": "#%%\n"
    }
   }
  },
  {
   "cell_type": "markdown",
   "source": [
    "## Getting predictions"
   ],
   "metadata": {
    "collapsed": false,
    "pycharm": {
     "name": "#%% md\n"
    }
   }
  },
  {
   "cell_type": "code",
   "execution_count": 17,
   "outputs": [
    {
     "data": {
      "text/plain": "array([[ 8.5374, -1.3222, 12.022 , ...,  0.    ,  0.    ,  1.    ],\n       [17.3035, -2.4212, 13.3989, ...,  0.    ,  1.    ,  0.    ],\n       [10.6137, -2.1898,  8.909 , ...,  0.    ,  0.    ,  1.    ],\n       ...,\n       [ 8.2964, -2.3119, 11.2139, ...,  0.    ,  0.    ,  0.    ],\n       [11.636 ,  2.2769, 11.2074, ...,  0.    ,  0.    ,  0.    ],\n       [13.5745, -0.5134, 13.6584, ...,  0.    ,  0.    ,  0.    ]])"
     },
     "execution_count": 17,
     "metadata": {},
     "output_type": "execute_result"
    }
   ],
   "source": [
    "\"\"\"Let's make predictions with the model\"\"\"\n",
    "super_test_set=x_test[x_test.columns[1:]].to_numpy()\n",
    "predictions=model.predict(super_test_set)\n",
    "#TEST\n",
    "predictions_prob=model.predict_proba(super_test_set)\n",
    "predictions_prob=pd.DataFrame(predictions_prob)\n",
    "######\n",
    "predictions_prob\n",
    "super_test_set"
   ],
   "metadata": {
    "collapsed": false,
    "pycharm": {
     "name": "#%%\n"
    }
   }
  },
  {
   "cell_type": "code",
   "execution_count": 47,
   "outputs": [],
   "source": [],
   "metadata": {
    "collapsed": false,
    "pycharm": {
     "name": "#%%\n"
    }
   }
  },
  {
   "cell_type": "code",
   "execution_count": 48,
   "outputs": [],
   "source": [
    "\"\"\" We create a fucntion that uses the trained model to save a CVS file ready for sumbmission\"\"\"\n",
    "def get_sumbmission(model):\n",
    "\n",
    "    return 0\n",
    "\n",
    "\n",
    "\"\"\"Let's get ready for submission. Creating a DataFrame containing ID codes and targets\"\"\"\n",
    "submission_df=pd.DataFrame()\n",
    "submission_df['ID_code']=x_test['ID_code']\n",
    "\n",
    "#TEST\n",
    "#submission_df['target']=predictions THIS IS THE REAL DEAL\n",
    "submission_df['target']=predictions_prob[1].values #TEST\n",
    "########################\n",
    "\n",
    "\"\"\"we are also creating a dummy columns to help us sort our data by ID code\"\"\"\n",
    "submission_df['dummy_index']=submission_df['ID_code'].apply(lambda x: int(x[5:]))\n",
    "\n",
    "submission_df\n",
    "\n",
    "\"\"\"Let's sort our data and save it as a CSV file! We are done!\"\"\"\n",
    "juan_submission=submission_df.sort_values(by='dummy_index')\n",
    "juan_submission.drop(['dummy_index'],axis=1).to_csv('juan_submission.csv', index=False)\n",
    "final_submission=pd.read_csv(filepath_or_buffer='juan_submission.csv')"
   ],
   "metadata": {
    "collapsed": false,
    "pycharm": {
     "name": "#%%\n"
    }
   }
  },
  {
   "cell_type": "code",
   "execution_count": 52,
   "outputs": [
    {
     "name": "stdout",
     "output_type": "stream",
     "text": [
      "Boosting copy.ipynb       juan_submission.csv       x_test.csv\r\n",
      "DataGeneration copy.ipynb test.csv                  x_train.csv\r\n",
      "README.md                 train.csv\r\n"
     ]
    }
   ],
   "source": [
    "!ls"
   ],
   "metadata": {
    "collapsed": false,
    "pycharm": {
     "name": "#%%\n"
    }
   }
  },
  {
   "cell_type": "code",
   "execution_count": 51,
   "outputs": [
    {
     "data": {
      "text/plain": "            ID_code    target\n0            test_0  0.503196\n1            test_1  0.791701\n2            test_2  0.769796\n3            test_3  0.487299\n4            test_4  0.378554\n...             ...       ...\n199995  test_199995  0.320715\n199996  test_199996  0.065481\n199997  test_199997  0.104253\n199998  test_199998  0.472951\n199999  test_199999  0.378694\n\n[200000 rows x 2 columns]",
      "text/html": "<div>\n<style scoped>\n    .dataframe tbody tr th:only-of-type {\n        vertical-align: middle;\n    }\n\n    .dataframe tbody tr th {\n        vertical-align: top;\n    }\n\n    .dataframe thead th {\n        text-align: right;\n    }\n</style>\n<table border=\"1\" class=\"dataframe\">\n  <thead>\n    <tr style=\"text-align: right;\">\n      <th></th>\n      <th>ID_code</th>\n      <th>target</th>\n    </tr>\n  </thead>\n  <tbody>\n    <tr>\n      <th>0</th>\n      <td>test_0</td>\n      <td>0.503196</td>\n    </tr>\n    <tr>\n      <th>1</th>\n      <td>test_1</td>\n      <td>0.791701</td>\n    </tr>\n    <tr>\n      <th>2</th>\n      <td>test_2</td>\n      <td>0.769796</td>\n    </tr>\n    <tr>\n      <th>3</th>\n      <td>test_3</td>\n      <td>0.487299</td>\n    </tr>\n    <tr>\n      <th>4</th>\n      <td>test_4</td>\n      <td>0.378554</td>\n    </tr>\n    <tr>\n      <th>...</th>\n      <td>...</td>\n      <td>...</td>\n    </tr>\n    <tr>\n      <th>199995</th>\n      <td>test_199995</td>\n      <td>0.320715</td>\n    </tr>\n    <tr>\n      <th>199996</th>\n      <td>test_199996</td>\n      <td>0.065481</td>\n    </tr>\n    <tr>\n      <th>199997</th>\n      <td>test_199997</td>\n      <td>0.104253</td>\n    </tr>\n    <tr>\n      <th>199998</th>\n      <td>test_199998</td>\n      <td>0.472951</td>\n    </tr>\n    <tr>\n      <th>199999</th>\n      <td>test_199999</td>\n      <td>0.378694</td>\n    </tr>\n  </tbody>\n</table>\n<p>200000 rows × 2 columns</p>\n</div>"
     },
     "execution_count": 51,
     "metadata": {},
     "output_type": "execute_result"
    }
   ],
   "source": [
    "final_submission"
   ],
   "metadata": {
    "collapsed": false,
    "pycharm": {
     "name": "#%%\n"
    }
   }
  },
  {
   "cell_type": "code",
   "execution_count": 2,
   "outputs": [
    {
     "name": "stdout",
     "output_type": "stream",
     "text": [
      "Boosting copy.ipynb       juan_submission.csv       x_test.csv\r\n",
      "DataGeneration copy.ipynb test.csv                  x_train.csv\r\n",
      "README.md                 train.csv\r\n"
     ]
    }
   ],
   "source": [],
   "metadata": {
    "collapsed": false,
    "pycharm": {
     "name": "#%%\n"
    }
   }
  },
  {
   "cell_type": "code",
   "execution_count": 52,
   "outputs": [],
   "source": [],
   "metadata": {
    "collapsed": false,
    "pycharm": {
     "name": "#%%\n"
    }
   }
  }
 ],
 "metadata": {
  "kernelspec": {
   "display_name": "Python 3",
   "language": "python",
   "name": "python3"
  },
  "language_info": {
   "codemirror_mode": {
    "name": "ipython",
    "version": 2
   },
   "file_extension": ".py",
   "mimetype": "text/x-python",
   "name": "python",
   "nbconvert_exporter": "python",
   "pygments_lexer": "ipython2",
   "version": "2.7.6"
  }
 },
 "nbformat": 4,
 "nbformat_minor": 0
}