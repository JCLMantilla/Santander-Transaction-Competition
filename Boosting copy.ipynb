{
 "cells": [
  {
   "cell_type": "markdown",
   "source": [
    "## Imports"
   ],
   "metadata": {
    "collapsed": false,
    "pycharm": {
     "name": "#%% md\n"
    }
   }
  },
  {
   "cell_type": "code",
   "execution_count": 137,
   "outputs": [
    {
     "name": "stdout",
     "output_type": "stream",
     "text": [
      "Now using sklearn version 1.0.2\n",
      "Packages are Ready!!!\n"
     ]
    }
   ],
   "source": [
    "import numpy as np\n",
    "import pandas as pd\n",
    "import sklearn as sklearn\n",
    "from sklearn.ensemble import HistGradientBoostingClassifier\n",
    "print('Now using sklearn version '+sklearn.__version__)\n",
    "print('Packages are Ready!!!')"
   ],
   "metadata": {
    "collapsed": false,
    "pycharm": {
     "name": "#%%\n"
    }
   }
  },
  {
   "cell_type": "markdown",
   "source": [
    "## Loading data"
   ],
   "metadata": {
    "collapsed": false,
    "pycharm": {
     "name": "#%% md\n"
    }
   }
  },
  {
   "cell_type": "code",
   "execution_count": 138,
   "outputs": [],
   "source": [
    "def load_augmented_data(): #Loads the augmented dataset\n",
    "    train_augmented=pd.read_csv(filepath_or_buffer='/Users/juansmacbook/PycharmProjects/Santander_Transaction/Santander-Transaction-Competition/train_augmented.csv')\n",
    "    test_augmented=pd.read_csv(filepath_or_buffer='/Users/juansmacbook/PycharmProjects/Santander_Transaction/Santander-Transaction-Competition/test_augmented.csv')\n",
    "    print('Augmented datasets are ready')\n",
    "    return train_augmented , test_augmented\n",
    "\n",
    "def load_original_data(): # Loads the original datasets of the competition\n",
    "    test=pd.read_csv('/Users/juansmacbook/PycharmProjects/Santander_Transaction/Santander-Transaction-Competition/test.csv')\n",
    "    train=pd.read_csv('/Users/juansmacbook/PycharmProjects/Santander_Transaction/Santander-Transaction-Competition/train.csv')\n",
    "    print('Original datasets are ready')\n",
    "    return train, test"
   ],
   "metadata": {
    "collapsed": false,
    "pycharm": {
     "name": "#%%\n"
    }
   }
  },
  {
   "cell_type": "code",
   "execution_count": 139,
   "outputs": [
    {
     "name": "stdout",
     "output_type": "stream",
     "text": [
      "Augmented datasets are ready\n"
     ]
    }
   ],
   "source": [
    "train_augmented , test_augmented = load_augmented_data()"
   ],
   "metadata": {
    "collapsed": false,
    "pycharm": {
     "name": "#%%\n"
    }
   }
  },
  {
   "cell_type": "markdown",
   "source": [
    "## Resampling\n",
    "We are going to resample the missrepresented class in the training dataset, in this way we are going to balance out the classes."
   ],
   "metadata": {
    "collapsed": false,
    "pycharm": {
     "name": "#%% md\n"
    }
   }
  },
  {
   "cell_type": "code",
   "execution_count": 140,
   "outputs": [],
   "source": [
    "training_set=x_train[x_train.columns[1:]].to_numpy()\n",
    "training_labels=train['target'].to_numpy()"
   ],
   "metadata": {
    "collapsed": false,
    "pycharm": {
     "name": "#%%\n"
    }
   }
  },
  {
   "cell_type": "code",
   "execution_count": 141,
   "outputs": [
    {
     "data": {
      "text/plain": "0    179902\n1    179902\nName: Number of examples, dtype: int64"
     },
     "execution_count": 141,
     "metadata": {},
     "output_type": "execute_result"
    }
   ],
   "source": [
    "\n",
    "\"\"\"Since we are dealing with an imbalanced data set we are going to deal with it  by oversampling the underrepresented class\"\"\"\n",
    "\n",
    "from imblearn.over_sampling import RandomOverSampler\n",
    "# we define a function that are going to balance the classes in a training set\n",
    "def resample_data(dataset): #gets a dataset and returns the balanced version of them\n",
    "    rov=RandomOverSampler()\n",
    "    x_resampled, y_resampled = rov.fit_resample(\n",
    "        X=dataset[dataset.columns[2:]].to_numpy(),\n",
    "        y=dataset['target'].to_numpy())\n",
    "    return x_resampled, y_resampled # return the dataset and their targets\n",
    "\n",
    "\"\"\" Let's use the function that we just declared\"\"\"\n",
    "x_resampled, y_resampled = resample_data(train_augmented)\n",
    "\"\"\" We can now see the number example for each class\"\"\"\n",
    "pd.Series(name='Number of examples', data=y_resampled).value_counts()"
   ],
   "metadata": {
    "collapsed": false,
    "pycharm": {
     "name": "#%%\n"
    }
   }
  },
  {
   "cell_type": "markdown",
   "source": [
    "## Boosting time"
   ],
   "metadata": {
    "collapsed": false,
    "pycharm": {
     "name": "#%% md\n"
    }
   }
  },
  {
   "cell_type": "code",
   "execution_count": 142,
   "outputs": [],
   "source": [
    "\"\"\"initializes an instance of a gradient boosting classifier \"\"\"\n",
    "def get_hgbc():\n",
    "    hgbc=sklearn.ensemble.HistGradientBoostingClassifier(\n",
    "        #Hyper parameters\n",
    "        max_iter=20, #Trees to be build\n",
    "        early_stopping=True,\n",
    "        #validation_fraction=0.02,\n",
    "        learning_rate=0.1,\n",
    "        warm_start=True,\n",
    "        #Metrics and over-fitting\n",
    "        loss='binary_crossentropy',\n",
    "        l2_regularization=0.01,\n",
    "        scoring='roc_auc',\n",
    "        # Tree parameters\n",
    "        min_samples_leaf=120,\n",
    "        max_leaf_nodes=13,\n",
    "        max_depth=None,\n",
    "        #ETC\n",
    "        verbose=1\n",
    "    )\n",
    "    return hgbc\n",
    "model=get_hgbc()"
   ],
   "metadata": {
    "collapsed": false,
    "pycharm": {
     "name": "#%%\n"
    }
   }
  },
  {
   "cell_type": "markdown",
   "source": [
    "### cross validation scheme DONT TOUCH YET"
   ],
   "metadata": {
    "collapsed": false,
    "pycharm": {
     "name": "#%% md\n"
    }
   }
  },
  {
   "cell_type": "code",
   "execution_count": 143,
   "outputs": [],
   "source": [
    "#from sklearn.model_selection import cross_val_score\n",
    "#val_scores=cross_val_score(model, x_resampled, y_resampled, cv=5, scoring='roc_auc')\n",
    "#val_scores"
   ],
   "metadata": {
    "collapsed": false,
    "pycharm": {
     "name": "#%%\n"
    }
   }
  },
  {
   "cell_type": "markdown",
   "source": [
    "### normal training DO NOT TOUCH"
   ],
   "metadata": {
    "collapsed": false,
    "pycharm": {
     "name": "#%% md\n"
    }
   }
  },
  {
   "cell_type": "code",
   "execution_count": 144,
   "outputs": [
    {
     "name": "stdout",
     "output_type": "stream",
     "text": [
      "Binning 1.036 GB of training data: 8.500 s\n",
      "Binning 0.115 GB of validation data: 0.438 s\n",
      "Fitting gradient boosted rounds:\n",
      "[1/20] 1 tree, 13 leaves, max depth = 9, train score: 0.64946, val score: 0.65699, in 0.211s\n",
      "[2/20] 1 tree, 13 leaves, max depth = 9, train score: 0.66996, val score: 0.67472, in 0.209s\n",
      "[3/20] 1 tree, 13 leaves, max depth = 10, train score: 0.68298, val score: 0.68674, in 0.209s\n",
      "[4/20] 1 tree, 13 leaves, max depth = 9, train score: 0.69463, val score: 0.69586, in 0.190s\n",
      "[5/20] 1 tree, 13 leaves, max depth = 10, train score: 0.71434, val score: 0.71199, in 0.191s\n",
      "[6/20] 1 tree, 13 leaves, max depth = 9, train score: 0.72721, val score: 0.72520, in 0.232s\n",
      "[7/20] 1 tree, 13 leaves, max depth = 11, train score: 0.73361, val score: 0.73369, in 0.198s\n",
      "[8/20] 1 tree, 13 leaves, max depth = 12, train score: 0.74316, val score: 0.74401, in 0.208s\n",
      "[9/20] 1 tree, 13 leaves, max depth = 7, train score: 0.74929, val score: 0.75011, in 0.240s\n",
      "[10/20] 1 tree, 13 leaves, max depth = 9, train score: 0.75556, val score: 0.75599, in 0.227s\n",
      "[11/20] 1 tree, 13 leaves, max depth = 12, train score: 0.76627, val score: 0.76587, in 0.201s\n",
      "[12/20] 1 tree, 13 leaves, max depth = 11, train score: 0.77202, val score: 0.77121, in 0.211s\n",
      "[13/20] 1 tree, 13 leaves, max depth = 11, train score: 0.77738, val score: 0.77718, in 0.194s\n",
      "[14/20] 1 tree, 13 leaves, max depth = 11, train score: 0.78241, val score: 0.78158, in 0.201s\n",
      "[15/20] 1 tree, 13 leaves, max depth = 7, train score: 0.78479, val score: 0.78442, in 0.233s\n",
      "[16/20] 1 tree, 13 leaves, max depth = 7, train score: 0.78910, val score: 0.78844, in 0.240s\n",
      "[17/20] 1 tree, 13 leaves, max depth = 11, train score: 0.79350, val score: 0.79232, in 0.199s\n",
      "[18/20] 1 tree, 13 leaves, max depth = 11, train score: 0.79581, val score: 0.79498, in 0.233s\n",
      "[19/20] 1 tree, 13 leaves, max depth = 12, train score: 0.79955, val score: 0.79860, in 0.233s\n",
      "[20/20] 1 tree, 13 leaves, max depth = 10, train score: 0.80394, val score: 0.80287, in 0.259s\n",
      "Fit 20 trees in 13.842 s, (260 total leaves)\n",
      "Time spent computing histograms: 1.678s\n",
      "Time spent finding best splits:  0.216s\n",
      "Time spent applying splits:      0.187s\n",
      "Time spent predicting:           0.024s\n",
      "Training done!\n"
     ]
    }
   ],
   "source": [
    "\"\"\"Creates and fits model with the resampled data\"\"\"\n",
    "model.fit(x_resampled, y_resampled, sample_weight=None)\n",
    "print('Training done!')"
   ],
   "metadata": {
    "collapsed": false,
    "pycharm": {
     "name": "#%%\n"
    }
   }
  },
  {
   "cell_type": "markdown",
   "source": [
    "## Getting predictions"
   ],
   "metadata": {
    "collapsed": false,
    "pycharm": {
     "name": "#%% md\n"
    }
   }
  },
  {
   "cell_type": "code",
   "execution_count": 145,
   "outputs": [
    {
     "data": {
      "text/plain": "array([[0.43771888, 0.56228112],\n       [0.52591029, 0.47408971],\n       [0.36161216, 0.63838784],\n       ...,\n       [0.71576694, 0.28423306],\n       [0.4180953 , 0.5819047 ],\n       [0.47697832, 0.52302168]])"
     },
     "execution_count": 145,
     "metadata": {},
     "output_type": "execute_result"
    }
   ],
   "source": [
    "predictions_prob=model.predict_proba(test_augmented[test_augmented.columns[1:]].to_numpy())\n",
    "predictions_prob"
   ],
   "metadata": {
    "collapsed": false,
    "pycharm": {
     "name": "#%%\n"
    }
   }
  },
  {
   "cell_type": "code",
   "execution_count": 146,
   "outputs": [],
   "source": [
    "\"\"\" We create a fucntion that uses the trained model to save a CVS file ready for sumbmission\"\"\"\n",
    "def get_submission():\n",
    "    submission=pd.DataFrame(data={\"ID_code\":test_augmented['ID_code'].to_numpy(), \"target\": predictions_prob[:,1] })\n",
    "    \"\"\"Saves the submission file\"\"\"\n",
    "    submission.to_csv('final_submission.csv', index=False)\n",
    "    return submission\n",
    "submission = get_submission()\n"
   ],
   "metadata": {
    "collapsed": false,
    "pycharm": {
     "name": "#%%\n"
    }
   }
  },
  {
   "cell_type": "code",
   "execution_count": 148,
   "outputs": [
    {
     "name": "stdout",
     "output_type": "stream",
     "text": [
      "Boosting copy.ipynb       final_submission.csv      train.csv\r\n",
      "DataGeneration copy.ipynb test.csv                  train_augmented.csv\r\n",
      "README.md                 test_augmented.csv\r\n"
     ]
    }
   ],
   "source": [
    "!ls"
   ],
   "metadata": {
    "collapsed": false,
    "pycharm": {
     "name": "#%%\n"
    }
   }
  },
  {
   "cell_type": "code",
   "execution_count": 147,
   "outputs": [],
   "source": [],
   "metadata": {
    "collapsed": false,
    "pycharm": {
     "name": "#%%\n"
    }
   }
  }
 ],
 "metadata": {
  "kernelspec": {
   "display_name": "Python 3",
   "language": "python",
   "name": "python3"
  },
  "language_info": {
   "codemirror_mode": {
    "name": "ipython",
    "version": 2
   },
   "file_extension": ".py",
   "mimetype": "text/x-python",
   "name": "python",
   "nbconvert_exporter": "python",
   "pygments_lexer": "ipython2",
   "version": "2.7.6"
  }
 },
 "nbformat": 4,
 "nbformat_minor": 0
}